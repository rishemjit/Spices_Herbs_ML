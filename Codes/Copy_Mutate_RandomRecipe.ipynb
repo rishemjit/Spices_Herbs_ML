{
 "cells": [
  {
   "cell_type": "markdown",
   "metadata": {},
   "source": [
    "## Part 1: random recipe generator##\n",
    "1. uniform random copy mutate model\n",
    "2. frequency-preserving copy mutate model\n",
    "3. uniform random (uniform random sampling)\n",
    "\n",
    "### Difference between 1 and 2 ###\n",
    "- 1 - no fitness value, the mutate process don't compare fitness value\n",
    "- 2 - has fitness value based on spice usage frequency, need to compare fitness value before mutate"
   ]
  },
  {
   "cell_type": "code",
   "execution_count": 2,
   "metadata": {},
   "outputs": [],
   "source": [
    "import json\n",
    "import numpy as np\n",
    "import random\n",
    "from Graph_Helpers import *\n",
    "from MinSetCover import *"
   ]
  },
  {
   "cell_type": "code",
   "execution_count": 3,
   "metadata": {},
   "outputs": [
    {
     "name": "stdout",
     "output_type": "stream",
     "text": [
      "5636\n"
     ]
    }
   ],
   "source": [
    "result_folder = 'Derived_Data/CopyMutate/'\n",
    "cuisinerecipe2spicerecipe_orig = json2dict('Derived_Data/Overlap/cuisinerecipe2spicerecipe_combined.json')\n",
    "print(len(cuisinerecipe2spicerecipe_orig))"
   ]
  },
  {
   "cell_type": "code",
   "execution_count": 4,
   "metadata": {},
   "outputs": [
    {
     "name": "stdout",
     "output_type": "stream",
     "text": [
      "Tarla + Sanjeev:\n",
      "max: 24 min: 1 mean: 6.6320085166784954 median: 6.0\n"
     ]
    }
   ],
   "source": [
    "def countdict_stats(d):\n",
    "    s_counts = list(d.values())\n",
    "    max_count = max(s_counts)\n",
    "    min_count = min(s_counts)\n",
    "    avg_count = np.mean(s_counts)\n",
    "    median_count = np.median(s_counts)\n",
    "    print('max:', max_count, 'min:', min_count, 'mean:', avg_count, 'median:', median_count)\n",
    "\n",
    "r2s_count_combined = dict2countdict(cuisinerecipe2spicerecipe_orig, list(cuisinerecipe2spicerecipe_orig.keys()))\n",
    "\n",
    "print('Tarla + Sanjeev:')\n",
    "countdict_stats(r2s_count_combined)\n"
   ]
  },
  {
   "cell_type": "markdown",
   "metadata": {},
   "source": [
    "### Model 1: Uniform Random Copy Mutate ###"
   ]
  },
  {
   "cell_type": "code",
   "execution_count": 5,
   "metadata": {},
   "outputs": [],
   "source": [
    "# UNIFORM RANDOM \n",
    "# Random recipe generator with Copy Mutate Algorithm\n",
    "\n",
    "# s: spice ingredients r: recipe\n",
    "\n",
    "def copy_mutate_uniformrand(r2s_orig, r_pool_count=20, s_count=7, s_pool_count=10, M=6, ratio_threshold=0.2):\n",
    "    '''\n",
    "    Args: \n",
    "        r2s_orig - original r2s dictionary\n",
    "        \n",
    "        r_pool_count - initial number of r(recipe) in r_pool, will be updated\n",
    "        \n",
    "        s_count - number of s(spice) per one recipe \n",
    "        (QUESTION: is s_count a fixed value? is every random recipe contain same number of spices?)\n",
    "        \n",
    "        s_pool_count - initial number of s(spice) in s_pool, will be updated \n",
    "        \n",
    "        M - number of mutations per time step\n",
    "        \n",
    "        ratio_threshold - threshold to maintain and add s(spice) to s_pool if s2r_ratio below threshold. \n",
    "        (QUESTION: what value should ratio_threshold take?)\n",
    "    \n",
    "    Return: random recipe sets\n",
    "    '''\n",
    "    s_orig = list(set(list(chain.from_iterable(r2s_orig.values())))) # all spices\n",
    "    print('# of spices:', len(s_orig))\n",
    "    r_orig = list(r2s_orig.keys()) # all recipes\n",
    "    s_orig_count = len(s_orig) # number of all spices\n",
    "    r_orig_count = len(r_orig) # number of all recipes\n",
    "\n",
    "    # keep track of remaining spice collection\n",
    "    # initially contains all spices encoded by number\n",
    "    s_orig_coded = list(range(0,s_orig_count)) \n",
    "\n",
    "    s_pool = random.sample(s_orig_coded, s_pool_count) # initialize s_pool with #s_pool_count of spices randomly selected\n",
    "\n",
    "    # remove spice in s_pool from original spice collection (i.e. s_orig_coded)\n",
    "    for s in s_pool:\n",
    "        s_orig_coded.remove(s) \n",
    "\n",
    "    # generate initial recipe pool (i.e. r_pool)\n",
    "    # initialize a list of #r_pool_count of recipes, each containing #s_count of spices randomly selected from s_pool\n",
    "    r_pool = []\n",
    "    count = 0\n",
    "    while(1):\n",
    "        r_rand = random.sample(s_pool, s_count)\n",
    "        r_rand.sort()\n",
    "        if count == r_pool_count:\n",
    "            break\n",
    "        if r_rand not in r_pool:\n",
    "            r_pool.append(r_rand)\n",
    "            count += 1\n",
    "\n",
    "    r_pool_orig = r_pool.copy()\n",
    "\n",
    "    #ratio_threshold = s_pool_count/r_pool_count   \n",
    "    \n",
    "    #random.seed(seed)\n",
    "    random.seed()\n",
    "\n",
    "    while(1):# time step\n",
    "        if len(r_pool) == r_orig_count:\n",
    "            break\n",
    "        s2r_ratio = s_pool_count/len(r_pool) # ratio btw #s in s_pool and #r in r_pool\n",
    "        if s2r_ratio < ratio_threshold and len(s_orig_coded):\n",
    "            if len(s_orig_coded) == 1:\n",
    "                print('#recipes in r_pool when remaining spices reach zero:', len(r_pool))\n",
    "            # add new spice into r_pool to maintain the ratio btw #s_pool_count/r_pool_count\n",
    "            '''\n",
    "            QUESTION: # total spices is significantly smaller than # recipes, cannot maintain ratio as #recipes in r_pool becomes larger\n",
    "            in Kinouchi's paper, at each time step, there are R(t)=t recipes, need to make sure there are MR(t) ingredients available to use,\n",
    "            where M is the ratio\n",
    "            '''\n",
    "            # pop out a spice by index from the remaining spice collection, and push to s_pool\n",
    "            s_pop = random.randint(0,len(s_orig_coded) - 1)\n",
    "            s_pool.append(s_orig_coded.pop(s_pop))  \n",
    "        s_pool_count = len(s_pool)\n",
    "        r_pool_count = len(r_pool)\n",
    "        # randomly select a recipe from the r_pool (recipe pool) for mutation \n",
    "        r_idx = random.randint(0, r_pool_count - 1)\n",
    "        r_mutate = r_pool[r_idx].copy() \n",
    "        for m in range(M): # mutation\n",
    "            # randomly select a spice from r_mutate's spice list\n",
    "            s_idx = random.randint(0,s_count - 1)\n",
    "            s_from_r = r_mutate[s_idx] \n",
    "            # randomly select a spice from s_pool\n",
    "            # random selection is from the subpool that exclude the spice already in current r_mutate\n",
    "            s_subpool = list(set(s_pool) - set(r_mutate))    \n",
    "            s_from_subpool = s_subpool[random.randint(0,len(s_subpool) - 1)]  \n",
    "            r_mutate[s_idx] = s_from_subpool\n",
    "            r_mutate.sort()\n",
    "        # add mutated recipe to r_pool\n",
    "        # removed checking mutated daughter recipe same with mother recipe, could be intrepreted as using different cooking procedure but containing same ingredients\n",
    "        r_pool.append(r_mutate)\n",
    "    print('#recipes in r_pool in final stage:', len(r_pool))\n",
    "    \n",
    "    # decode random recipes (i.e. replace number with spice name)\n",
    "    random_recipes = []\n",
    "    for r in r_pool:\n",
    "        recipe_list = []\n",
    "        for s in r:\n",
    "            recipe_list.append(s_orig[s])\n",
    "        random_recipes.append(recipe_list)\n",
    "    return random_recipes\n"
   ]
  },
  {
   "cell_type": "markdown",
   "metadata": {},
   "source": [
    "### Model 2: Frequency-conserving copy mutate ###"
   ]
  },
  {
   "cell_type": "code",
   "execution_count": 6,
   "metadata": {},
   "outputs": [],
   "source": [
    "\n",
    "# s: spice ingredients r: recipe\n",
    "\n",
    "def copy_mutate_freqconserve(r2s_orig, r_pool_count=20, s_count=7, s_pool_count=10, M=6, ratio_threshold=0.2):\n",
    "    '''\n",
    "    Args: \n",
    "        r2s_orig - original r2s dictionary\n",
    "        \n",
    "        r_pool_count - initial number of r(recipe) in r_pool, will be updated\n",
    "        \n",
    "        s_count - number of s(spice) per one recipe \n",
    "        (QUESTION: is s_count a fixed value? is every random recipe contain same number of spices?)\n",
    "        \n",
    "        s_pool_count - initial number of s(spice) in s_pool, will be updated \n",
    "        \n",
    "        M - number of mutations per time step\n",
    "        \n",
    "        ratio_threshold - threshold to maintain and add s(spice) to s_pool if s2r_ratio below threshold. \n",
    "        (QUESTION: what value should ratio_threshold take?)\n",
    "    \n",
    "    Return: random recipe sets\n",
    "    '''\n",
    "    s_orig_list = list(chain.from_iterable(r2s_orig.values())) # all spices list\n",
    "    \n",
    "    s_orig = list(set(s_orig_list)) # all spices set\n",
    "           \n",
    "    r_orig = list(r2s_orig.keys()) # all recipes\n",
    "    s_orig_count = len(s_orig) # number of all spices\n",
    "    r_orig_count = len(r_orig) # number of all recipes\n",
    "\n",
    "    # keep track of remaining spice collection\n",
    "    # initially contains all spices encoded by number\n",
    "    s_orig_coded = list(range(0,s_orig_count)) \n",
    "    \n",
    "    # generate fitness values for each spice based on their frequency\n",
    "    s2fitnessvals = {}\n",
    "    for i in range(s_orig_count):\n",
    "        s2fitnessvals[i] = s_orig_list.count(s_orig[i])\n",
    "\n",
    "    s_pool = random.sample(s_orig_coded, s_pool_count) # initialize s_pool with #s_pool_count of spices randomly selected\n",
    "\n",
    "    # remove spice in s_pool from original spice collection (i.e. s_orig_coded)\n",
    "    for s in s_pool:\n",
    "        s_orig_coded.remove(s) \n",
    "\n",
    "    # generate initial recipe pool (i.e. r_pool)\n",
    "    # initialize a list of #r_pool_count of recipes, each containing #s_count of spices randomly selected from s_pool\n",
    "    r_pool = []\n",
    "    count = 0\n",
    "    while(1):\n",
    "        r_rand = random.sample(s_pool, s_count)\n",
    "        r_rand.sort()\n",
    "        if count == r_pool_count:\n",
    "            break\n",
    "        if r_rand not in r_pool:\n",
    "            r_pool.append(r_rand)\n",
    "            count += 1\n",
    "\n",
    "    r_pool_orig = r_pool.copy()\n",
    "\n",
    "    #ratio_threshold = s_pool_count/r_pool_count   \n",
    "    \n",
    "    #random.seed(seed)\n",
    "    random.seed()\n",
    "\n",
    "    while(1):# time step\n",
    "        if len(r_pool) == r_orig_count:\n",
    "            break\n",
    "        s2r_ratio = s_pool_count/len(r_pool) # ratio btw #s in s_pool and #r in r_pool\n",
    "        if s2r_ratio < ratio_threshold and len(s_orig_coded):\n",
    "            if len(s_orig_coded) == 1:\n",
    "                print('#recipes in r_pool when remaining spices reach zero:', len(r_pool))\n",
    "            # add new spice into r_pool to maintain the ratio btw #s_pool_count/r_pool_count\n",
    "            '''\n",
    "            QUESTION: # total spices is significantly smaller than # recipes, cannot maintain ratio as #recipes in r_pool becomes larger\n",
    "            in Kinouchi's paper, at each time step, there are R(t)=t recipes, need to make sure there are MR(t) ingredients available to use,\n",
    "            where M is the ratio\n",
    "            '''\n",
    "            # pop out a spice by index from the remaining spice collection, and push to s_pool\n",
    "            s_pop = random.randint(0,len(s_orig_coded) - 1)\n",
    "            s_pool.append(s_orig_coded.pop(s_pop))  \n",
    "        s_pool_count = len(s_pool)\n",
    "        r_pool_count = len(r_pool)\n",
    "        # randomly select a recipe from the r_pool (recipe pool) for mutation \n",
    "        r_idx = random.randint(0, r_pool_count - 1)\n",
    "        r_mutate = r_pool[r_idx].copy() \n",
    "        for m in range(M): # mutation\n",
    "            #seed += 1\n",
    "            # randomly select a spice from r_mutate's spice list\n",
    "            s_idx = random.randint(0,s_count - 1)\n",
    "            s_from_r = r_mutate[s_idx] \n",
    "            # randomly select a spice from s_pool\n",
    "            s_subpool = list(set(s_pool) - set(r_mutate))    \n",
    "            s_from_subpool = s_subpool[random.randint(0,len(s_subpool) - 1)]  \n",
    "            if s2fitnessvals[s_from_r] < s2fitnessvals[s_from_subpool]:\n",
    "                r_mutate[s_idx] = s_from_subpool\n",
    "            r_mutate.sort()\n",
    "        # add mutated recipe to r_pool\n",
    "        # removed checking mutated daughter recipe same with mother recipe, could be intrepreted as using different cooking procedure but containing same ingredients\n",
    "        r_pool.append(r_mutate)\n",
    "    print('#recipes in r_pool in final stage:', len(r_pool))\n",
    "    \n",
    "    # decode random recipes (i.e. replace number with spice name)\n",
    "    random_recipes = []\n",
    "    for r in r_pool:\n",
    "        recipe_list = []\n",
    "        for s in r:\n",
    "            recipe_list.append(s_orig[s])\n",
    "        random_recipes.append(recipe_list)\n",
    "    return random_recipes\n"
   ]
  },
  {
   "cell_type": "markdown",
   "metadata": {},
   "source": [
    "## Generate Random Recipes ##"
   ]
  },
  {
   "cell_type": "code",
   "execution_count": 7,
   "metadata": {},
   "outputs": [],
   "source": [
    "GEN_NEW = False # generate new random recipe \n",
    "NUM_SETS = 50  # number of recipe sets per random algorithm"
   ]
  },
  {
   "cell_type": "markdown",
   "metadata": {},
   "source": [
    "### 1. copy-mutate uniform ###"
   ]
  },
  {
   "cell_type": "code",
   "execution_count": 8,
   "metadata": {},
   "outputs": [
    {
     "name": "stdout",
     "output_type": "stream",
     "text": [
      "50\n"
     ]
    }
   ],
   "source": [
    "# Generate Random Recipes: \n",
    "if GEN_NEW:\n",
    "    randuniform_recipes = []\n",
    "    for i in range(NUM_SETS):\n",
    "        random_recipes_uniform = copy_mutate_uniformrand(cuisinerecipe2spicerecipe_orig, r_pool_count=20, s_count=6, s_pool_count=10, M=6, ratio_threshold=0.2)\n",
    "        r_dict = {}\n",
    "        for i in range(len(random_recipes_uniform)):\n",
    "            r_dict['Recipe'+str(i)] = random_recipes_uniform[i]        \n",
    "        unique_recipe_count= len(list(set(map(tuple, random_recipes_uniform))))\n",
    "        print('unique recipes count(uniformrand): ', unique_recipe_count)\n",
    "        randuniform_recipes.append(r_dict)\n",
    "    dict2json(randuniform_recipes,result_folder+'cm_randuniform_recipes.json')\n",
    "else:\n",
    "    randuniform_recipes = json2dict(result_folder+'cm_randuniform_recipes.json')\n",
    "    print(len(randuniform_recipes))"
   ]
  },
  {
   "cell_type": "markdown",
   "metadata": {},
   "source": [
    "### 2. copy-mutate freq conserve ###"
   ]
  },
  {
   "cell_type": "code",
   "execution_count": 9,
   "metadata": {},
   "outputs": [
    {
     "name": "stdout",
     "output_type": "stream",
     "text": [
      "50\n"
     ]
    }
   ],
   "source": [
    "if GEN_NEW:\n",
    "    randfreq_recipes = []\n",
    "    for i in range(NUM_SETS):\n",
    "        random_recipes_freq = copy_mutate_freqconserve(cuisinerecipe2spicerecipe_orig, r_pool_count=20, s_count=6, s_pool_count=10, M=6, ratio_threshold=0.2)\n",
    "        r_dict = {}\n",
    "        for i in range(len(random_recipes_freq)):\n",
    "            r_dict['Recipe'+str(i)] = random_recipes_freq[i]        \n",
    "        unique_recipe_count= len(list(set(map(tuple, random_recipes_freq))))\n",
    "        print('unique recipes count(freqconserve): ', unique_recipe_count)\n",
    "        randfreq_recipes.append(r_dict)\n",
    "    dict2json(randfreq_recipes,result_folder+'cm_randfreq_recipes.json')\n",
    "else:\n",
    "    randfreq_recipes = json2dict(result_folder+'cm_randfreq_recipes.json')\n",
    "    print(len(randfreq_recipes))"
   ]
  },
  {
   "cell_type": "code",
   "execution_count": 10,
   "metadata": {},
   "outputs": [
    {
     "name": "stdout",
     "output_type": "stream",
     "text": [
      "mean, min and max no of spices in a recipe 6.6320085166784954 1 24\n",
      "5636\n"
     ]
    },
    {
     "data": {
      "image/png": "[encoded data removed]",
      "text/plain": [
       "<Figure size 640x480 with 1 Axes>"
      ]
     },
     "metadata": {},
     "output_type": "display_data"
    }
   ],
   "source": [
    "import matplotlib.pyplot as plt\n",
    "\n",
    "# read the Indian cuisine file to get an estimate of the no of spices per recipe\n",
    "from statistics import mean\n",
    "recipe_len = [len(i) for i in cuisinerecipe2spicerecipe_orig.values()]\n",
    "\n",
    "plt.hist(recipe_len)\n",
    "print('mean, min and max no of spices in a recipe', mean(recipe_len), min(recipe_len), max(recipe_len))\n",
    "print(len(recipe_len))"
   ]
  },
  {
   "cell_type": "markdown",
   "metadata": {},
   "source": [
    "### 3. random (draw from uniform distn) ###"
   ]
  },
  {
   "cell_type": "code",
   "execution_count": 11,
   "metadata": {},
   "outputs": [
    {
     "name": "stdout",
     "output_type": "stream",
     "text": [
      "6 6 6\n"
     ]
    }
   ],
   "source": [
    "# generate random recipe set that follows the same distribution (of no of ingredients per recipe) as in the Indian cusine data\n",
    "\n",
    "import random \n",
    "s_pool = list(set(list(chain.from_iterable(cuisinerecipe2spicerecipe_orig.values())))) # all spices\n",
    "# we will randomly generate 5000 recipes and no of ingredients for recipes will be selected based on Indian cuisine\n",
    "num_recipes = 5636\n",
    "s_count = [6]*num_recipes\n",
    "print(mean(s_count), min(s_count), max(s_count))\n",
    "\n",
    "if GEN_NEW:\n",
    "    rand_recipes = []\n",
    "    for k in range(NUM_SETS):\n",
    "        recipe_random = []\n",
    "        recipe_random_dict = {} # this will be used in other codes\n",
    "        for i in range(num_recipes):\n",
    "            sample = random.sample(s_pool, s_count[i])\n",
    "            recipe_random.append(sample)\n",
    "            recipe_random_dict['Recipe{}'.format(i)] = sample\n",
    "        rand_recipes.append(recipe_random_dict)\n",
    "\n",
    "    dict2json(rand_recipes,result_folder+ 'randomuniform_recipes.json')\n",
    "else:\n",
    "    rand_recipes = json2dict(result_folder+ 'randomuniform_recipes.json') "
   ]
  },
  {
   "cell_type": "markdown",
   "metadata": {},
   "source": [
    "## Part 2: min set cover (recipe cover for indications) ##\n",
    "1. generate recipe2indication bipartite for real recipe data\n",
    "2. generate recipe2indication bipartite for random recipe \n",
    "3. minset cover for each case"
   ]
  },
  {
   "cell_type": "markdown",
   "metadata": {},
   "source": [
    "### Generate recipe2indic_orig for real recipe ###"
   ]
  },
  {
   "cell_type": "code",
   "execution_count": 12,
   "metadata": {},
   "outputs": [
    {
     "name": "stdout",
     "output_type": "stream",
     "text": [
      "MISSING SPICES (appear in spice2recipe but not in spice2indic_phytononzero): \n",
      " set()\n"
     ]
    }
   ],
   "source": [
    "#cuisinerecipe2spicerecipe_combined\n",
    "# generate {cuisinerecipe : indication} dict\n",
    "def process_name(s):\n",
    "    return s.lower().replace(' ', '')\n",
    "\n",
    "spicerecipe2spicehnd = json2dict('Derived_Data/Overlap/spicetarla_spicehnd_dict.json') \n",
    "spicehnd2indic = json2dict('Derived_Data/Spice2Phytochemical2Disease/spice2indic_all.json')\n",
    "spicehnd2indic =  {process_name(k) : v for k, v in spicehnd2indic.items()}\n",
    "\n",
    "miss = []\n",
    "cuisinerecipe2indic_orig = {}\n",
    "for r in cuisinerecipe2spicerecipe_orig.keys():\n",
    "    indic_list = []\n",
    "    for s in cuisinerecipe2spicerecipe_orig[r]:\n",
    "        for s_hnd in spicerecipe2spicehnd[s]:\n",
    "            try:\n",
    "                indic_list.extend(spicehnd2indic[process_name(s_hnd)])\n",
    "            except:\n",
    "                miss.append(s_hnd)\n",
    "    cuisinerecipe2indic_orig[r] = list(set(indic_list))\n",
    "print('MISSING SPICES (appear in spice2recipe but not in spice2indic_phytononzero): \\n', set(miss))"
   ]
  },
  {
   "cell_type": "code",
   "execution_count": 13,
   "metadata": {},
   "outputs": [],
   "source": [
    "# Find recipe-indication for all random recipe-spice sets\n",
    "\n",
    "miss = []\n",
    "\n",
    "# copy-mutate uniform\n",
    "recipe2indic_randuniform_list = []\n",
    "for idx in range(NUM_SETS):\n",
    "    recipe2indic_randuniform = {}\n",
    "    for i in range(len(randuniform_recipes[idx])):\n",
    "        indic_list = []\n",
    "        for s in randuniform_recipes[idx]['Recipe'+str(i)]:\n",
    "            for s_hnd in spicerecipe2spicehnd[s]:\n",
    "                try:\n",
    "                    indic_list.extend(spicehnd2indic[process_name(s_hnd)])\n",
    "                except:\n",
    "                    miss.append(s_hnd)\n",
    "        recipe2indic_randuniform['Recipe'+str(i)] = list(set(indic_list))\n",
    "    recipe2indic_randuniform_list.append(recipe2indic_randuniform)\n",
    "\n",
    "\n",
    "# copy-mutate freq\n",
    "miss = []\n",
    "recipe2indic_randfreq_list = []\n",
    "for idx in range(NUM_SETS):\n",
    "    recipe2indic_randfreq = {}\n",
    "    for i in range(len(randfreq_recipes[idx])):\n",
    "        indic_list = []\n",
    "        for s in randfreq_recipes[idx]['Recipe'+str(i)]:\n",
    "            for s_hnd in spicerecipe2spicehnd[s]:\n",
    "                try:\n",
    "                    indic_list.extend(spicehnd2indic[process_name(s_hnd)])\n",
    "                except:\n",
    "                    miss.append(s_hnd)\n",
    "        recipe2indic_randfreq['Recipe'+str(i)] = list(set(indic_list))\n",
    "    recipe2indic_randfreq_list.append(recipe2indic_randfreq)\n",
    "    \n",
    "miss = []\n",
    "\n",
    "# random uniform\n",
    "recipe2indic_rand_list = []\n",
    "for idx in range(NUM_SETS):\n",
    "    recipe2indic_rand = {}\n",
    "    for i in range(len(rand_recipes[idx])):\n",
    "        indic_list = []\n",
    "        for s in rand_recipes[idx]['Recipe'+str(i)]:\n",
    "            for s_hnd in spicerecipe2spicehnd[s]:\n",
    "                try:\n",
    "                    indic_list.extend(spicehnd2indic[process_name(s_hnd)])\n",
    "                except:\n",
    "                    miss.append(s_hnd)\n",
    "        recipe2indic_rand['Recipe'+str(i)] = list(set(indic_list))\n",
    "    recipe2indic_rand_list.append(recipe2indic_rand)\n",
    "\n"
   ]
  },
  {
   "cell_type": "markdown",
   "metadata": {},
   "source": [
    "### Min Set Cover for each disease category ###\n",
    "### Be Patient for it to run ###"
   ]
  },
  {
   "cell_type": "code",
   "execution_count": 14,
   "metadata": {},
   "outputs": [],
   "source": [
    "GEN_MINSET = False"
   ]
  },
  {
   "cell_type": "code",
   "execution_count": 15,
   "metadata": {},
   "outputs": [],
   "source": [
    "group2indic2spice =  json2dict('Derived_Data/MinSetCover/group2indic2spice.json')\n",
    "\n",
    "def Minset_recipe_bygroup(recipe2indic, recipe2spice):\n",
    "    group2minrecipe = {}\n",
    "    for group, val in group2indic2spice.items():\n",
    "        print(group)\n",
    "        indic_select = list(val.keys())\n",
    "        indic2recipe = reverse_dict(recipe2indic)   #cuisinerecipe2indic_orig\n",
    "\n",
    "        indic2recipe_sub = {indic: indic2recipe[indic] for indic in indic_select if indic in indic2recipe}\n",
    "        print('#indic',len(indic_select), '#indic used in recipes:', len(indic2recipe_sub))\n",
    "        recipe2indic_sub = reverse_dict(indic2recipe_sub) \n",
    "\n",
    "       # print(indic2recipe_sub.keys())\n",
    "        set_name = ['Recipe','Indication']\n",
    "        bi_graph_sub, recipe_topset_sub, indic_botset_sub = Bipartite_graph(recipe2indic_sub, set_name)\n",
    "        if recipe_topset_sub and indic_botset_sub:\n",
    "            adjmtx_sub = bipartite.biadjacency_matrix(bi_graph_sub, row_order=indic_botset_sub, column_order=recipe_topset_sub).toarray()\n",
    "\n",
    "            n2 = adjmtx_sub.shape[1]\n",
    "            c = np.hstack([np.ones(n2), [0]])\n",
    "\n",
    "            min_set_bygroup = Min_cover_set(recipe2indic_sub, recipe_topset_sub, indic_botset_sub, adjmtx_sub, c)\n",
    "            min_r2s = {}\n",
    "            for min_r in min_set_bygroup:\n",
    "                min_r2s[min_r] = recipe2spice[min_r]\n",
    "            group2minrecipe[group] = min_r2s\n",
    "    return group2minrecipe\n",
    "   \n",
    "if GEN_MINSET:\n",
    "    # min set for real recipe       \n",
    "    group2minrecipe_orig = Minset_recipe_bygroup(cuisinerecipe2indic_orig,cuisinerecipe2spicerecipe_orig)\n",
    "    dict2json(group2minrecipe_orig, result_folder + 'group2minrecipe_orig.json')\n",
    "\n",
    "    # min set for copy-mutate uniform\n",
    "    group2minrecipe_randuniform_list = []\n",
    "    for idx in range(NUM_SETS):\n",
    "        group2minrecipe_randuniform = Minset_recipe_bygroup(recipe2indic_randuniform_list[idx],randuniform_recipes[idx])\n",
    "        group2minrecipe_randuniform_list.append(group2minrecipe_randuniform)\n",
    "    dict2json(group2minrecipe_randuniform_list, result_folder + 'group2minrecipe_randuniform_list.json')\n",
    "\n",
    "    # min set for copy-mutate freq conserve\n",
    "    group2minrecipe_randfreq_list = []\n",
    "    for idx in range(NUM_SETS):\n",
    "        group2minrecipe_randfreq = Minset_recipe_bygroup(recipe2indic_randfreq_list[idx],randfreq_recipes[idx])\n",
    "        group2minrecipe_randfreq_list.append(group2minrecipe_randfreq)\n",
    "    dict2json(group2minrecipe_randfreq_list, result_folder + 'group2minrecipe_randfreq_list.json')\n",
    "\n",
    "    # min set for random uniform recipes\n",
    "    group2minrecipe_rand_list = []\n",
    "    for idx in range(NUM_SETS):\n",
    "        group2minrecipe_rand = Minset_recipe_bygroup(recipe2indic_rand_list[idx],rand_recipes[idx])\n",
    "        group2minrecipe_rand_list.append(group2minrecipe_rand)\n",
    "    dict2json(group2minrecipe_rand_list, result_folder + 'group2minrecipe_rand_list.json')\n",
    "else:\n",
    "    group2minrecipe_orig = json2dict(result_folder + 'group2minrecipe_orig.json')\n",
    "    group2minrecipe_randuniform_list = json2dict(result_folder + 'group2minrecipe_randuniform_list_100.json')\n",
    "    group2minrecipe_randfreq_list = json2dict(result_folder + 'group2minrecipe_randfreq_list_100.json')\n",
    "    group2minrecipe_rand_list = json2dict(result_folder + 'group2minrecipe_rand_list_100.json')"
   ]
  },
  {
   "cell_type": "code",
   "execution_count": 16,
   "metadata": {},
   "outputs": [
    {
     "name": "stdout",
     "output_type": "stream",
     "text": [
      "100\n",
      "False\n",
      "False\n"
     ]
    }
   ],
   "source": [
    "print(len(group2minrecipe_rand_list))\n",
    "print(group2minrecipe_rand_list[2] == group2minrecipe_rand_list[3])\n",
    "print(group2minrecipe_rand_list[30]['infectious_disease'] == group2minrecipe_rand_list[20]['infectious_disease'])"
   ]
  },
  {
   "cell_type": "code",
   "execution_count": 17,
   "metadata": {},
   "outputs": [],
   "source": [
    "groups_select = ['infectious_disease', \n",
    "                 'gastrointestinal_disease',\n",
    "                 'cancer_disease',\n",
    "                 'skin_disease',\n",
    "                 'nephrological_disease',\n",
    "                 'neuronal_disease',\n",
    "                 'respiratory_disease',\n",
    "                 'pregnancy_disease',\n",
    "                 'mental_disease',\n",
    "                 'metabolic_disease',\n",
    "                 'cardiovascular_disease',\n",
    "                 'immune_disease'\n",
    "]"
   ]
  },
  {
   "cell_type": "markdown",
   "metadata": {},
   "source": [
    "## Box plots by disease category ##"
   ]
  },
  {
   "cell_type": "code",
   "execution_count": 18,
   "metadata": {
    "scrolled": false
   },
   "outputs": [
    {
     "name": "stderr",
     "output_type": "stream",
     "text": [
      "/var/folders/b4/v914vnr53d78831b3prx5h680000gn/T/ipykernel_4380/386855270.py:36: UserWarning: set_ticklabels() should only be used with a fixed number of ticks, i.e. after set_ticks() or using a FixedLocator.\n",
      "  ax.set_xticklabels(['FC-CM','U-CM','RU'],fontsize=16)\n"
     ]
    },
    {
     "data": {
      "image/png": "[encoded data removed]",
      "text/plain": [
       "<Figure size 1600x800 with 12 Axes>"
      ]
     },
     "metadata": {},
     "output_type": "display_data"
    }
   ],
   "source": [
    "# FINAL \n",
    "import numpy as np\n",
    "import matplotlib.pyplot as plt\n",
    "import pandas as pd\n",
    "import seaborn as sns\n",
    "\n",
    "num_set = len(group2minrecipe_randfreq_list)\n",
    "\n",
    "num_show = 0\n",
    "\n",
    "fig, axes = plt.subplots(3, 4, sharex=True, figsize=(16,8))\n",
    "\n",
    "for count_temp11, group in enumerate(groups_select):\n",
    "    count_orig, countlist_orig, countlist_randfreq, countlist_randuniform, countlist_rand = [],[],[],[],[]\n",
    "    count_multi_df = []\n",
    "    orig_count = len(group2minrecipe_orig[group]) # just one set \n",
    "    for i in range(num_set):\n",
    "        countlist_randfreq.append({'count':len(group2minrecipe_randfreq_list[i][group]), 'type':'frequency-conserved copy mutate'})\n",
    "        countlist_randuniform.append({'count':len(group2minrecipe_randuniform_list[i][group]), 'type':'uniform copy mutate'})\n",
    "        countlist_rand.append({'count':len(group2minrecipe_rand_list[i][group]), 'type':'random uniform'})\n",
    "    count_multi_df.extend(countlist_randfreq)\n",
    "    count_multi_df.extend(countlist_randuniform)\n",
    "    count_multi_df.extend(countlist_rand)\n",
    "\n",
    "    count_multi_df = pd.DataFrame(count_multi_df)\n",
    "\n",
    "    sns.set_style(\"dark\", {\"axes.facecolor\": \".9\"})\n",
    "\n",
    "    ax =sns.boxplot(x ='type', y='count', hue='type', ax = axes[int(num_show/4),num_show%4], \n",
    "                    data=count_multi_df, palette=\"Set2\", showmeans=True, showfliers=False,linewidth=2, \n",
    "                   meanprops={\"marker\":\"d\",\n",
    "                       \"markerfacecolor\":\"black\", \n",
    "                       \"markeredgecolor\":\"black\",\n",
    "                      \"markersize\":\"4\"})\n",
    "    ax.axhline(y=orig_count, color='r', linestyle='--')\n",
    "    ax.set_xticklabels(['FC-CM','U-CM','RU'],fontsize=16)\n",
    "    ax.set_xticks(np.arange(0,3,1))\n",
    "    ax.set_yticks(np.arange(0,12,2))\n",
    "    ax.set_xlabel('', fontsize=1)\n",
    "    ax.set_ylabel('', fontsize=14)\n",
    "    if (count_temp11%4 ==0):\n",
    "        ax.set_ylabel('Min Set Size', fontsize=14)\n",
    "    ax.set_title(' '.join(group.split('_')).capitalize(), fontsize=16)\n",
    "    ax.legend([],[], frameon=False)\n",
    "    \n",
    "    # Add grid to the subplot\n",
    "    ax.grid(True, linewidth=0.5, color='gray', linestyle='-', alpha=0.5)\n",
    "    \n",
    "    num_show +=1 \n",
    "    if num_show > 11:\n",
    "        break\n",
    "\n",
    "fig.subplots_adjust(top=0.9, left=0.1, right=0.9, bottom=0.12)  # create some space below the plots by increasing the bottom-value\n",
    "\n",
    "# Check if there are any legend texts before modifying them\n",
    "if len(axes.flatten()[-3].get_legend_handles_labels()[1]) > 0:\n",
    "    L = axes.flatten()[-3].legend(loc='upper center', bbox_to_anchor=(1.1, -0.5), ncol=3, fontsize=16)\n",
    "    legend_texts = L.get_texts()\n",
    "    if len(legend_texts) >= 3:\n",
    "        legend_texts[0].set_text('Frequency Conserved Copy Mutate (FC-CM)')\n",
    "        legend_texts[1].set_text('Uniform Copy Mutate (U-CM)')\n",
    "        legend_texts[2].set_text('Random uniform (RU)')\n",
    "\n",
    "plt.savefig(result_folder+'Boxplot_minsetcover_disease.png', bbox_inches=\"tight\", dpi = 600)\n",
    "\n",
    "plt.show()"
   ]
  }
 ],
 "metadata": {
  "kernelspec": {
   "display_name": "Python 3",
   "language": "python",
   "name": "python3"
  },
  "language_info": {
   "codemirror_mode": {
    "name": "ipython",
    "version": 3
   },
   "file_extension": ".py",
   "mimetype": "text/x-python",
   "name": "python",
   "nbconvert_exporter": "python",
   "pygments_lexer": "ipython3",
   "version": "3.12.3"
  }
 },
 "nbformat": 4,
 "nbformat_minor": 2
}
