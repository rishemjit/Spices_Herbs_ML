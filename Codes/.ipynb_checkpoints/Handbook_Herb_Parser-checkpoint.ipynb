{
 "cells": [
  {
   "cell_type": "code",
   "execution_count": 3,
   "metadata": {},
   "outputs": [],
   "source": [
    "# FINAL \n",
    "\n",
    "from pdfminer.layout import LAParams\n",
    "from pdfminer.pdfinterp import PDFResourceManager, PDFPageInterpreter\n",
    "from pdfminer.converter import PDFPageAggregator\n",
    "from pdfminer.pdfpage import PDFPage\n",
    "from pdfminer.layout import LTTextBoxHorizontal\n",
    "\n",
    "folder = 'Handbook_Data/'\n",
    "f_write = folder + \"/herb_handbook_text.txt\"\n",
    "document = open(folder + \"/Handbook of Medicinal Herbs.pdf\", 'rb')\n",
    "#Create resource manager\n",
    "rsrcmgr = PDFResourceManager()\n",
    "# Set parameters for analysis.\n",
    "laparams = LAParams()\n",
    "# Create a PDF page aggregator object.\n",
    "device = PDFPageAggregator(rsrcmgr, laparams=laparams)\n",
    "interpreter = PDFPageInterpreter(rsrcmgr, device)\n",
    "with open(f_write,\"w\",encoding= 'utf-8') as outfile:\n",
    "    for page in PDFPage.get_pages(document):\n",
    "        interpreter.process_page(page)\n",
    "        # receive cothe LTPage object for the page.\n",
    "        layout = device.get_result()\n",
    "        for element in layout:\n",
    "            if isinstance(element, LTTextBoxHorizontal):\n",
    "                outfile.write(element.get_text())\n",
    "    "
   ]
  },
  {
   "cell_type": "code",
   "execution_count": 4,
   "metadata": {},
   "outputs": [],
   "source": [
    "# Predefined list of herbs that might be missed from the regex match\n",
    "MISSING_HERBS = ['Chokecherry', 'Virginia-Creeper', 'Cinnamon-Vine', \"Fraser's Fir\", 'Scurvy-Grass', 'Hu-Zhang', 'Musk-Mallow', 'Foam-Flower', 'Onion', 'Aloes', 'Forget-Me-Not', 'Mate', 'Lavender', 'Self-Heal', 'Rye', 'Stavesacre', 'Mohodu-Wa-Pela', 'Strongback', 'Tree-of-Heaven', 'Life-Root', 'Kudzu', 'Skirret', 'Turmeric', 'Sorrel', 'Grains-of-Paradise', 'Manaca', 'Pellitory-of-the-Wall', 'Sesame']\n",
    "MISSING_HERBS = [h.upper() for h in MISSING_HERBS]\n"
   ]
  },
  {
   "cell_type": "code",
   "execution_count": 6,
   "metadata": {},
   "outputs": [],
   "source": [
    "# ORIG \n",
    "def is_title(s):\n",
    "    for h in MISSING_HERBS:\n",
    "        if h in s:\n",
    "            return True\n",
    "    return re.match(\"[A-ZÀ-ÿ]+[\\W]*[A-ZÀ-ÿ]*\\s\", s)\n",
    "\n",
    "import re\n",
    "from Graph_Helpers import *\n",
    "\n",
    "\n",
    "f_original = folder + \"/herb_handbook_text.txt\"\n",
    "f_processed = folder + '/processed_text_herbhnd.txt'\n",
    "\n",
    "text_processed = ''\n",
    "count = 0\n",
    "with open(f_original,\"r\",encoding = 'utf-8') as outfile:\n",
    "    lines = outfile.readlines()\n",
    "    for line in lines:\n",
    "        if re.match('Handbook of Medicinal Herbs\\n|[A-Z]\\n|[0-9]+\\n|\\n', line):  # skip margin lines\n",
    "            count += 1\n",
    "        else:\n",
    "            text_processed += line\n",
    "            \n",
    "with open(f_processed,\"w\",encoding= 'utf-8') as outfile:\n",
    "    outfile.write(text_processed)\n",
    "    \n",
    "title_match = False\n",
    "spice2content = {}\n",
    "INDIC_FOUND = False\n",
    "TITLE_DONE = False\n",
    "\n",
    "\n",
    "with open(f_processed,\"r\",encoding = 'utf-8') as outfile:\n",
    "    lines = outfile.readlines()\n",
    "    line_idx = 0\n",
    "    while line_idx < len(lines) - 1:\n",
    "        line = lines[line_idx]\n",
    "        title_match = is_title(line)\n",
    "        if not TITLE_DONE:\n",
    "            if not title_match:\n",
    "                line_idx += 1\n",
    "            else: \n",
    "                full_title = line\n",
    "                while line_idx < len(lines) - 1:\n",
    "                    line_idx += 1\n",
    "                    line = lines[line_idx]\n",
    "                    keyword_match = re.match(\"^Synonym|^Activities|^Indications\", line)\n",
    "                    if is_title(line):\n",
    "                        break  # if match is_title pattern again, means the current full_title is not title, go back to beginning \n",
    "                    else: \n",
    "                        if re.match('.*[\\+\\+|X|\\+]\\n$', line): \n",
    "                            TITLE_DONE = True\n",
    "                            full_title += line\n",
    "                            line_idx += 1\n",
    "                            break\n",
    "                        elif keyword_match: # get all lines between title line and the first line containing keyword\n",
    "                            TITLE_DONE = True\n",
    "                            break\n",
    "                        else:\n",
    "                            full_title += line\n",
    "        else:\n",
    "            indic_match = re.match(\"^Indications\", line)\n",
    "            if not indic_match:\n",
    "                line_idx += 1\n",
    "            else:   # Title done, check indication\n",
    "                INDIC_FOUND == True\n",
    "                indic_lines = ''\n",
    "                while line_idx < len(lines) - 1:\n",
    "                    line = lines[line_idx]\n",
    "                    indic_lines += line\n",
    "                    end_match = re.match(\".*\\.\\n$\", line) \n",
    "                    if end_match:\n",
    "                        indic_lines = indic_lines.replace('\\n','')\n",
    "                        spice2content.update({full_title : indic_lines})\n",
    "                        #print('SPICE: ', full_title)\n",
    "                        #print('INDIC: ', indic_lines, '\\n')\n",
    "                        INDIC_FOUND = False # reset\n",
    "                        TITLE_DONE = False # reset \n",
    "                        line_idx += 1\n",
    "                        break\n",
    "                    line_idx += 1\n",
    "                                \n",
    "                                            \n",
    "          "
   ]
  },
  {
   "cell_type": "code",
   "execution_count": 7,
   "metadata": {},
   "outputs": [],
   "source": [
    "def unify_name(name):\n",
    "    name = name.split('(')[0].rstrip().replace(\"-\", \"\").lower().capitalize().rstrip(',')\n",
    "    comma_split = name.split(',')\n",
    "    if len(comma_split) > 1:\n",
    "        name = ','.join([word.rstrip().lstrip() for word in name.split(',')])\n",
    "    name = ' '.join(name.split())\n",
    "    return name"
   ]
  },
  {
   "cell_type": "code",
   "execution_count": 8,
   "metadata": {},
   "outputs": [
    {
     "name": "stdout",
     "output_type": "stream",
     "text": [
      "{'Add': 'Attention deficit disorder', 'Altitudesickness': 'Altitude sickness', 'Anascara': 'Anasarca', 'Athero sclerosis': 'Atherosclerosis', 'Atheroclerosis': 'Atherosclerosis', \"Athlete'sfoot\": \"Athlete's foot\", 'Atony': 'Atonia', 'Attentiondeficit disorder': 'Attention deficit disorder', 'Back': 'Backache', 'Bladder': 'Bladderailment', 'Blennorrhea': 'Blennorrhagia', 'Blenorrhagia': 'Blennorrhagia', 'Blenorrhea': 'Blennorrhagia', 'Bloat': 'Bloating', 'Bo': 'Body odor', 'Bodyodor': 'Body odor', 'Bone': 'Bone ache', 'Bph': 'BPH', 'Brachycardia': 'Bradycardia', 'Breast ache': 'Breast pain', 'Breastpain': 'Breast pain', 'Bugbite': 'Bug bite', 'Cancer,ovarian': 'Cancer,ovary', 'Cancer,testes': 'Cancer,testis', 'Cancer,testicle': 'Cancer,testis', 'Capillaryfragility': 'Capillary fragility', 'Cardopathy': 'Cardiopathy', 'Cellulite': 'Cellulitis', 'Cervisosis': 'Cervicosis', 'Cfs': 'CFS', 'Chaﬁng': 'Chafing', 'Chemotherapysupport': 'Chemotherapy', 'Chest': 'Chest ache', 'Chilblain': 'Chilblains', 'Childbirth': 'Child birth', 'Chole cystosis': 'Cholecystosis', 'Cholecytosis': 'Cholecystosis', 'Coldsore': 'Cold sore', 'Cornealopacity': 'Corneal opacity', 'Depres sion': 'Depression', 'Drunkenness': 'Intoxication', 'Drymouth': 'Dry mouth', 'Dusgeuzia': 'Dusgeusia', 'Dysmen orrhea': 'Dysmenorrhea', 'Dysmenor rhea': 'Dysmenorrhea', 'Dystony': 'Dystonia', 'Ear': 'Earache', 'Earach': 'Earache', 'Ebv': 'EBV', 'Epididy mosis': 'Epididymosis', 'Escher ichia': 'Escherichia', 'Escherichia': 'Escherichia', 'Exocrine hepaticinsufficiency': 'Exocrine hepatic insufficiency', 'Felons': 'Felon', 'Fibrososis': 'Fibrositis', 'Fig': 'Fig (disease)', 'Fit': 'Fits', 'Foot': 'Footache', 'Gallbladder': 'Gall bladder', 'Gatrosis': 'Gastrosis', 'Graves disease': \"Graves' disease\", \"Grave's disease\": \"Graves' disease\", 'Head': 'Headache', 'Hematachezia': 'Hematochezia', 'Hepatitis a': 'Hepatitis A', 'Hepatitis b': 'Hepatitis B', 'Hepatitis c': 'Hepatitis C', 'Hepatitisb': 'Hepatitis B', 'Hepatosis c': 'Hepatosis C', 'High bloodpressure': 'High blood pressure', 'High triglyceride': 'High triglycerides', 'Highblood pressure': 'High blood pressure', 'Highcholesterol': 'High cholesterol', 'Hightriglyceride': 'High triglycerides', 'Hip': 'Hipache', 'Hip ache': 'Hipache', 'Hiv': 'HIV', 'Hive': 'Hives', 'Hot flash': 'Hot flashes', 'Hydrocephalus': 'Hydrocephaly', 'Hypere mesis': 'Hyperemesis', 'Hyperemesis': 'Hyperemesis gravidarum', 'Hyperlipemia': 'Hyperlipidemia', 'Hyperlipidemia': 'Hyperlipidemia', 'Hyperthyroid': 'Hyperthyroidism', 'Hypertony': 'Hypertonia', 'Ibd': 'IBD', 'Ibs': 'IBS', 'Iddm': 'IDDM', 'Impo tence': 'Impotence', 'Indolentulcer': 'Indolent ulcer', 'Infec tion': 'Infection', 'Inflam mation': 'Inflammation', 'Inflamation': 'Inflammation', 'Inflamma tion': 'Inflammation', 'Intermittentclaudication': 'Intermittent claudication', 'Kidney sone': 'Kidney stone', 'Kidneyinsufficiency': 'Kidney insufficiency', 'Kidneystone': 'Kidney stone', 'Knee ache': 'Knee pain', 'Laryngismus': 'Laryngismus stridulus', 'Laryngismusstridulus': 'Laryngismus stridulus', 'Leishmaniasis': 'Leishmania', 'Leishmannia': 'Leishmania', 'Leprosy': 'Lep rosy', 'Low blood presssure': 'Low blood pressure', 'Low bloodpressure': 'Low blood pressure', 'Lowblood pressure': 'Low blood pressure', 'Lung': 'Lung problem', 'Lungs': 'Lung problem', 'Maltafever': 'Malta fever', 'Melancholia': 'Melancholy', 'Mete orism': 'Meteorism', 'Morningsickness': 'Morning sickness', 'Ms': 'Multiple sclerosis', 'Multiplesclerosis': 'Multiple sclerosis', 'Myastheniagravis': 'Myasthenia gravis', 'Neck': 'Neck ache', 'Nerve': 'Nerves', 'Onany': 'Onanism', 'Onychiosis': 'Onychosis', 'Opacities': 'Opacity', 'Otitismedia': 'Otitis media', 'Ovaries': 'Ovary', 'Ovariosis': 'Ovarosis', 'Ozoena': 'Ozena', \"Parkinson's disease\": \"Parkinson's\", 'Pleurosis': 'Pleurisy', 'Pms': 'Postmenopause', 'Poison': 'Poisoning', 'Pollakisuria': 'Pollakiuria', 'Poor milksupply': 'Poor milk supply', 'Pricklyheat': 'Prickly heat', 'Prolapsus': 'Prolapse', 'Quincy': 'Quinsy', \"Raynaud's syndrome\": \"Raynaud's\", 'Roemeld syndrome': 'Roemheld syndrome', 'Roemheldsyndrome': 'Roemheld syndrome', 'Scarletfever': 'Scarlet fever', 'Sea sicknessseasickness': 'Seasickness', 'Seniledementia': 'Senile dementia', 'Shigella': 'Shigellosis', 'Shingle': 'Shingles', 'Sickle cell': 'Sickle cell anemia', 'Sicklecell anemia': 'Sickle cell anemia', 'Side pain': 'Side ache', 'Sideache': 'Side ache', 'Skin': 'Skin disease', 'Sle': 'Lupus', 'Snakebite': 'Snake bite', 'Sniffle': 'Sniffles', 'Sorethroat': 'Sore throat', 'Staphylo coccus': 'Staphylococcus', 'Stom achache': 'Stomachache', 'Stomach': 'Stomachache', 'Strains': 'Strain', 'Streptococcus': 'Strepto coccus', 'Sweat': 'Sweating', 'Syndromex': 'Syndrome x', 'Telangiectasis': 'Telangiectasia', 'Thumbsucking': 'Thumb sucking', 'Tonsilosis': 'Tonsillosis', 'Toothache': 'Tooth ache', 'Tri chomonas': 'Trichomonas', 'Trichomonaisis': 'Trichomoniasis', 'Valvularinsufficiency': 'Valvular insufficiency', 'Waterretention': 'Water retention', 'Xerostoma': 'Xerostomia', 'Yaw': 'Yaws', 'Yellowfever': 'Yellow fever', 'Biliarydyskinesia': 'Biliary dyskinesia', 'Dys pepsia': 'Dyspepsia', 'Lachri mosis': 'Lachrimosis', 'Rsv': 'RSV', 'Schistosomi asis': 'Schistosomiasis', 'Staphy lococcus': 'Staphylococcus', 'Xray': 'X ray', 'Bron chiectasis': 'Bronchiectasis', 'Paraty phus': 'Paratyphus', 'Head cold': 'Headcold', 'Canker sore': 'Cankersore', 'Bladder ailment': 'Bladderailment', 'Night sweats': 'Nightsweats', 'Foot ache': 'Footache', 'Hydrocele': 'Hydrocoele', 'Acidity': 'Acid indigestion', 'Acid stomach': 'Acid indigestion', 'Adiposis': 'Adiposity', 'Ameba': 'Amebiasis', 'Anorexia nervosa': 'Anorexia', 'Aneuria': 'Anuria', 'Aphtha': 'Aphthosa', 'Ascarides': 'Ascaris', 'Ascariasis': 'Ascaris', 'Calculus': 'Calculosis', 'Carcinomata': 'Carcinoma', 'Cardiopathy,spiritual': 'Cardiopathy', 'Decubosis': 'Decubitis', 'Dention': 'Dentition', 'Filaria': 'Filariasis', 'Furunculosis': 'Furuncle', 'Glucosuria': 'Glycosuria', 'Hyperlipidemic': 'Hyperlipidemia', 'Lachrimosis': 'Lacrimation', 'Lacrimosis': 'Lacrimation', 'Malaria prevention': 'Malaria', 'Myocardiosis': 'Myocardosis', 'Neuralgic': 'Neuralgia', 'Poliomyelosis': 'Poliomyelitis', 'Night sweat': 'Nightsweats', 'Cvi': 'CVI', 'Hem orrhoid': 'Hemorrhoid', 'Hrt': 'HRT', 'Low hdl': 'Low HDL', 'Lymphagosis': 'Lymphangites', 'Lymphangosis': 'Lymphangites', 'Thyroid': 'Thyroidosis', 'Vd': 'VD', 'Gon orrhea': 'Gonorrhea', 'Oph thalmia': 'Ophthalmia', 'Rheu matism': 'Rheumatism', 'Neuras thenia': 'Neurasthenia', 'Lichen sclerosis,vulval': 'Lichen sclerosus,vulvar', 'Chick enpox': 'Chickenpox', 'Rheumaticfever': 'Rheumatic fever', 'Tardivedyskinesia': 'Tardive dyskinesia', 'Poison ivy': 'Poison ivy disease'}\n"
     ]
    }
   ],
   "source": [
    "#\n",
    "from pandas import *\n",
    "xls = ExcelFile('Handbook_Data/name_correction.xlsx')\n",
    "data = xls.parse(xls.sheet_names[0])\n",
    "orig_name = [unify_name(s) for s in data['orig']]\n",
    "replace_name = data['replace']\n",
    "orig2replace = dict(zip(orig_name, replace_name))\n",
    "#rig2replace_df = DataFrame(orig2replace.items(), columns=['orig', 'replace'])\n",
    "#orig2replace_df.to_excel('Handbook_Data/name_correction.xlsx', sheet_name=xls.sheet_names[0])\n",
    "#print(orig2replace_df)\n",
    "print(orig2replace)"
   ]
  },
  {
   "cell_type": "code",
   "execution_count": 9,
   "metadata": {
    "scrolled": true
   },
   "outputs": [],
   "source": [
    "# Generate clean spice2info dictionary\n",
    "import unidecode\n",
    "from Graph_Helpers import *\n",
    "TAXON_list = json2dict('../Crawlers/phytochemicals/TAXON_list.json')\n",
    "CNID_list = json2dict('../Crawlers/phytochemicals/CNID_list.json')\n",
    "count = 0\n",
    "spice2info = {}\n",
    "nonmatch_titles = []\n",
    "nonmatch_phyto = []\n",
    "count_major = 0\n",
    "name_correct = []\n",
    "indic_set = []\n",
    "for title, indic_text in spice2content.items():\n",
    "    title = unidecode.unidecode(title)\n",
    "    indic_text = unidecode.unidecode(indic_text)\n",
    "    PHYTO_MISS = True\n",
    "    title = re.sub('\\n',' ', title)\n",
    "    name_match = re.findall(\"([A-ZÀ-ÿ\\W]+[A-ZÀ-ÿ]+)[\\ ]+\\((.*)\\)[\\ ]+([\\+\\+|\\+|\\+ \\+|X|\\+\\+\\+]*)\\ \", title)\n",
    "    taxon = ''\n",
    "    cnid = ''\n",
    "    phyto_entry = {'taxon': taxon, 'cnid': cnid}\n",
    "    orig_title = {'sci-name': '', 'com-names': []}\n",
    "    if name_match:\n",
    "        com_names = name_match[0][0].split(', ')\n",
    "        safety = name_match[0][2].rstrip()\n",
    "        sci_name = name_match[0][1]\n",
    "        sci_name = re.sub('[L\\.|\\(].*','',sci_name).rstrip()\n",
    "        orig_title['sci_name']= sci_name\n",
    "        orig_title['com-names'] = com_names\n",
    "        if sci_name in TAXON_list:\n",
    "            phyto_entry['taxon'] = sci_name\n",
    "            PHYTO_MISS = False\n",
    "        else:\n",
    "            words = sci_name.split()\n",
    "            s = len(words) - 1\n",
    "            new_sci_name = sci_name\n",
    "            PHYTO_MISS = True\n",
    "            while s >= 0: # find matching taxon by removing suffix\n",
    "                new_sci_name = new_sci_name.strip(words[s]).rstrip()\n",
    "                if new_sci_name in TAXON_list:\n",
    "                    #print('MATCH by SCINAME:', sci_name, '==', new_sci_name)\n",
    "                    phyto_entry['taxon'] = new_sci_name\n",
    "                    PHYTO_MISS = False\n",
    "                    break\n",
    "                s -= 1\n",
    "        for name in com_names:\n",
    "            new_name = ''.join(name.upper().split())\n",
    "            if new_name in CNID_list:\n",
    "                #print('MATCH by COMNAME:', name)\n",
    "                phyto_entry['cnid'] = new_name\n",
    "                PHYTO_MISS = False   \n",
    "                break\n",
    "    else:\n",
    "        nonmatch_titles.append(title)\n",
    "    indic_clean = re.match(\"^Indications[\\ ]+\\((((?!\\-\\-).)*)\\)[^\\.]+\\.\",indic_text)[0]\n",
    "    indic_match = re.match(\"^Indications[\\ ]+\\((((?!\\-\\-).)*)\\)[\\ ]+--[\\ ]+(((?!\\.).)*)\\..*\", indic_clean)\n",
    "    major_name = indic_match[1]\n",
    "    indic_content = indic_match[3]\n",
    "    indic_list = re.findall('[A-ZÀ-ÿ][^\\()]* \\([f0-9]', indic_content)\n",
    "    indic2score = {}\n",
    "    for indic in indic_list:\n",
    "        indication = unify_name(indic)\n",
    "        # name correction\n",
    "        if indication in orig2replace.keys():\n",
    "            if indication in ['Inflam mation','Inflamma tion']:\n",
    "                indication = 'Inflammation'\n",
    "            name_correct.append(indication)\n",
    "            indication = orig2replace[indication]\n",
    "        score = re.match('.* \\((.*)', indic)[1]\n",
    "        indic_set.append(indication)\n",
    "        indic2score.update({indication:score})\n",
    "    if PHYTO_MISS:\n",
    "        major_name_upper = ''.join(major_name.split(' ')).upper().rstrip(',')\n",
    "        if major_name_upper in CNID_list:\n",
    "            #print('MATCH by MAJORNAME:', major_name)\n",
    "            count_major += 1\n",
    "            phyto_entry['cnid'] = major_name_upper\n",
    "            PHYTO_MISS = False\n",
    "    if major_name == \"Adam's Needles\":\n",
    "        orig_title['com_names'] = [\"ADAM'S NEEDLES\", \"SPANISH BAYONET\"]\n",
    "        orig_title['sci_name'] = 'Yucca filamentosa'\n",
    "        phyto_entry['cnid'] = 'SPANISHBAYONET'\n",
    "        safety = '++'\n",
    "        PHYTO_MISS = False\n",
    "    if PHYTO_MISS:\n",
    "        count += 1\n",
    "        nonmatch_phyto.append(major_name)\n",
    "    major_name = ' '.join(major_name.lower().capitalize().split())\n",
    "    spice2info.update({major_name:\n",
    "                      {'orig_title': orig_title,\n",
    "                       'phyto_entry': phyto_entry,\n",
    "                       'safety': safety,\n",
    "                       'indication2score': indic2score}\n",
    "                      })\n",
    "\n",
    "dict2json(spice2info, folder + 'spice2info_herbhnd.json')\n"
   ]
  },
  {
   "cell_type": "code",
   "execution_count": 10,
   "metadata": {},
   "outputs": [
    {
     "name": "stdout",
     "output_type": "stream",
     "text": [
      "178\n",
      "{'Lungs', 'Schistosomi asis', 'Bron chiectasis', 'Escher ichia', 'Lymphagosis', 'Trichomonaisis', 'Lachrimosis', 'Earach', 'Hepatitis b', 'Staphy lococcus', 'Depres sion', 'Night sweat', 'Oph thalmia', 'Infec tion', 'Epididy mosis', 'Inflamma tion', 'Hem orrhoid', 'Chole cystosis', 'Bladder ailment', 'Chaﬁng', 'Bodyodor', 'Hepatosis c', 'Rheu matism', 'Stom achache', 'Blenorrhagia', 'Gon orrhea', 'Hypere mesis', 'Cardopathy', 'Inflam mation', 'Dys pepsia', 'Impo tence', 'Mete orism', 'Aneuria', 'Cholecytosis', 'Paraty phus', 'Decubosis', 'Neuras thenia', 'Leishmannia', 'Chick enpox', 'Felons', 'Lachri mosis', 'Laryngismusstridulus', 'Staphylo coccus', 'Onychiosis', 'Tri chomonas', 'Multiplesclerosis', 'Dysmenor rhea', 'Athero sclerosis', 'Dysmen orrhea'}\n"
     ]
    }
   ],
   "source": [
    "name_correct = set(name_correct)\n",
    "print(len(name_correct))\n",
    "print(orig2replace.keys() - name_correct)"
   ]
  },
  {
   "cell_type": "code",
   "execution_count": 14,
   "metadata": {},
   "outputs": [
    {
     "data": {
      "text/plain": [
       "\"\\nimport pandas as pd\\nindic_set = set(indic_set)\\nreplace = []\\norig = []\\nfor indic in indic_set:\\n    indic_nospace = indic.replace(' ', '') \\n    if indic_nospace in indic_set and indic_nospace != indic:\\n        orig.append(indic_nospace)\\n        replace.append(indic)\\nprint(len(orig))\\norig2replace_space = dict(zip(orig, replace))\\norig2replace_space_df = pd.DataFrame(orig2replace_space.items(), columns=['orig', 'replace'])\\norig2replace_space_df.to_excel('Handbook_Data/name_correction_space_new.xlsx')\\n\""
      ]
     },
     "execution_count": 14,
     "metadata": {},
     "output_type": "execute_result"
    }
   ],
   "source": [
    "'''\n",
    "import pandas as pd\n",
    "indic_set = set(indic_set)\n",
    "replace = []\n",
    "orig = []\n",
    "for indic in indic_set:\n",
    "    indic_nospace = indic.replace(' ', '') \n",
    "    if indic_nospace in indic_set and indic_nospace != indic:\n",
    "        orig.append(indic_nospace)\n",
    "        replace.append(indic)\n",
    "print(len(orig))\n",
    "orig2replace_space = dict(zip(orig, replace))\n",
    "orig2replace_space_df = pd.DataFrame(orig2replace_space.items(), columns=['orig', 'replace'])\n",
    "orig2replace_space_df.to_excel('Handbook_Data/name_correction_space_new.xlsx')\n",
    "'''"
   ]
  },
  {
   "cell_type": "code",
   "execution_count": 15,
   "metadata": {
    "scrolled": false
   },
   "outputs": [],
   "source": [
    "spice2indic = json2dict('indication_dict_herb_final.json')\n",
    "spice2indic_new = {}\n",
    "# remove unicode characters for spice2indic dict\n",
    "for spice in spice2indic.keys():\n",
    "    spice2indic_new.update({unidecode.unidecode(spice): spice2indic[spice]})\n",
    "    \n",
    "herb_miss = spice2indic_new.keys() - spice2info.keys()\n",
    "#print('Missing herbs: ', herb_miss)\n",
    "\n",
    "# Note: 'Aloes' is actually not missing (just a mismatch of name)"
   ]
  },
  {
   "cell_type": "code",
   "execution_count": 16,
   "metadata": {
    "scrolled": false
   },
   "outputs": [
    {
     "data": {
      "text/plain": [
       "'\\nSPECIAL CASES: \\n\\n1. taxon line comes before title line \\n2. safety score has wrong spacing\\n3. ****\\n\\n\\nAVENS, BENNET’S ROOT (Geum urbanum L.)++ \\n****BLACK BEAN, GREEN BEAN, etc. (Phaseolus vulgaris L.) +++ \\nENGLISH DAISY, WILD DAISY (Bellis perennis L.)+ +  \\nEUROPEAN LARCH (Larix decidua Mill.)++  \\nFRAGRANT SUMAC (Rhus aromatica Aiton)+ +  \\n\\n****MELATONIN (+)-N.A.  \\n****OPIUM POPPY (Papaver somniferum L.) (+++ seeds) (XXX opium)\\n\\n'"
      ]
     },
     "execution_count": 16,
     "metadata": {},
     "output_type": "execute_result"
    }
   ],
   "source": [
    "'''\n",
    "print(len(nonmatch_titles))\n",
    "print('herbs with missing phyto-entry:\\n', nonmatch_phyto)\n",
    "print('#herbs with missing phyto-entry:\\n', count)\n",
    "spice2info_nophyto = {}\n",
    "for spice in nonmatch_phyto:\n",
    "    spice2info_nophyto.update({spice: spice2info[spice]})\n",
    "dict2json(spice2info_nophyto, folder + 'spice2info_nophyto.json')\n",
    "dict2json(nonmatch_phyto, folder + 'herbs_nophyto.json')\n",
    "'''\n",
    "\n",
    "'''\n",
    "SPECIAL CASES: \n",
    "\n",
    "1. taxon line comes before title line \n",
    "2. safety score has wrong spacing\n",
    "3. ****\n",
    "\n",
    "\n",
    "AVENS, BENNET’S ROOT (Geum urbanum L.)++ \n",
    "****BLACK BEAN, GREEN BEAN, etc. (Phaseolus vulgaris L.) +++ \n",
    "ENGLISH DAISY, WILD DAISY (Bellis perennis L.)+ +  \n",
    "EUROPEAN LARCH (Larix decidua Mill.)++  \n",
    "FRAGRANT SUMAC (Rhus aromatica Aiton)+ +  \n",
    "\n",
    "****MELATONIN (+)-N.A.  \n",
    "****OPIUM POPPY (Papaver somniferum L.) (+++ seeds) (XXX opium)\n",
    "\n",
    "'''\n"
   ]
  },
  {
   "cell_type": "code",
   "execution_count": 17,
   "metadata": {},
   "outputs": [
    {
     "name": "stdout",
     "output_type": "stream",
     "text": [
      "1083\n"
     ]
    }
   ],
   "source": [
    "print(len(spice2info))"
   ]
  },
  {
   "cell_type": "code",
   "execution_count": null,
   "metadata": {},
   "outputs": [],
   "source": []
  },
  {
   "cell_type": "code",
   "execution_count": null,
   "metadata": {},
   "outputs": [],
   "source": []
  }
 ],
 "metadata": {
  "kernelspec": {
   "display_name": "Python 3",
   "language": "python",
   "name": "python3"
  },
  "language_info": {
   "codemirror_mode": {
    "name": "ipython",
    "version": 3
   },
   "file_extension": ".py",
   "mimetype": "text/x-python",
   "name": "python",
   "nbconvert_exporter": "python",
   "pygments_lexer": "ipython3",
   "version": "3.7.1"
  }
 },
 "nbformat": 4,
 "nbformat_minor": 2
}
