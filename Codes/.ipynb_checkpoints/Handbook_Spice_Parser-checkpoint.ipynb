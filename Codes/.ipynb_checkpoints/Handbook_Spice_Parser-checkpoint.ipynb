{
 "cells": [
  {
   "cell_type": "code",
   "execution_count": 1,
   "metadata": {},
   "outputs": [],
   "source": [
    "# HANDBOOK OF SPICES\n",
    "from pdfminer.layout import LAParams\n",
    "from pdfminer.pdfinterp import PDFResourceManager, PDFPageInterpreter\n",
    "from pdfminer.converter import PDFPageAggregator\n",
    "from pdfminer.pdfpage import PDFPage\n",
    "from pdfminer.layout import LTTextBoxHorizontal\n",
    "\n",
    "folder = 'Handbook_Data/'\n",
    "f_write = folder + \"\\spice_handbook_text.txt\"\n",
    "document = open(folder + \"\\Handbook of Medicinal Spices.pdf\", 'rb')\n",
    "#Create resource manager\n",
    "rsrcmgr = PDFResourceManager()\n",
    "# Set parameters for analysis.\n",
    "laparams = LAParams()\n",
    "# Create a PDF page aggregator object.\n",
    "device = PDFPageAggregator(rsrcmgr, laparams=laparams)\n",
    "interpreter = PDFPageInterpreter(rsrcmgr, device)\n",
    "with open(f_write,\"w\",encoding= 'utf-8') as outfile:\n",
    "    for page in PDFPage.get_pages(document):\n",
    "        interpreter.process_page(page)\n",
    "        # receive the LTPage object for the page.\n",
    "        layout = device.get_result()\n",
    "        for element in layout:\n",
    "            if isinstance(element, LTTextBoxHorizontal):\n",
    "                outfile.write(element.get_text())\n",
    "    "
   ]
  },
  {
   "cell_type": "code",
   "execution_count": 2,
   "metadata": {},
   "outputs": [],
   "source": [
    "def is_title(s):\n",
    "    return re.match(\"[A-Z]+[\\W]*[A-Z]*\\s\", s)"
   ]
  },
  {
   "cell_type": "code",
   "execution_count": 3,
   "metadata": {
    "scrolled": true
   },
   "outputs": [],
   "source": [
    "import re\n",
    "from Graph_Helpers import *\n",
    "# FINAL \n",
    "#keywords = ['Synonym', 'Activities', 'Indications', 'Dosages', 'Contraindications', 'title']\n",
    "\n",
    "f_original = folder + \"\\spice_handbook_text.txt\"\n",
    "f_processed = folder + '\\processed_text_hndspice.txt'\n",
    "\n",
    "text_processed = ''\n",
    "count = 0\n",
    "with open(f_original,\"r\",encoding = 'utf-8') as outfile:\n",
    "    lines = outfile.readlines()\n",
    "    for line in lines:\n",
    "        if re.match('©2003 CRC Press LLC\\n|[A-Z]\\n|[0-9]+\\n|\\n', line):  # skip margin lines\n",
    "            count += 1\n",
    "        else:\n",
    "            text_processed += line\n",
    "            \n",
    "with open(f_processed,\"w\",encoding= 'utf-8') as outfile:\n",
    "    outfile.write(text_processed)\n",
    "    \n",
    "title_match = ''\n",
    "spice2content = {}\n",
    "INDIC_FOUND = False\n",
    "TITLE_DONE = False\n",
    "\n",
    "\n",
    "with open(f_processed,\"r\",encoding = 'utf-8') as outfile:\n",
    "    lines = outfile.readlines()\n",
    "    line_idx = 0\n",
    "    while line_idx < len(lines) - 1:\n",
    "        line = lines[line_idx]\n",
    "        title_match = is_title(line)\n",
    "        if not TITLE_DONE:\n",
    "            if not title_match:\n",
    "                line_idx += 1\n",
    "            else: \n",
    "                full_title = lines[line_idx - 1] + line  # scientific names come one line before the uppercase common name title\n",
    "                while line_idx < len(lines) - 1:\n",
    "                    line_idx += 1\n",
    "                    line = lines[line_idx]\n",
    "                    keyword_match = re.match(\"^Synonym|^Indications|^Medicinal Uses|^Medicinal  Uses|^Medicinal \", line)\n",
    "                    if is_title(line):\n",
    "                        break  # if match is_title pattern again, means the current full_title is not title, go back to beginning \n",
    "                    elif keyword_match: # get all lines between title line and the first line containing keyword\n",
    "                        TITLE_DONE = True\n",
    "                        line_idx += 1\n",
    "                        break\n",
    "                    else:\n",
    "                        full_title += line\n",
    "        else:\n",
    "            indic_match = re.match(\"^Indications\", line)\n",
    "            if not indic_match:\n",
    "                line_idx += 1\n",
    "            else:   # Title done, check indication\n",
    "                INDIC_FOUND == True\n",
    "                indic_lines = line\n",
    "                line_idx += 1\n",
    "                while line_idx < len(lines) - 1:\n",
    "                    line = lines[line_idx]\n",
    "                    end_match = re.match(\".*\\.\\n$\", line)\n",
    "                    indic_lines += line\n",
    "                    if end_match:\n",
    "                        indic_lines = indic_lines.replace('\\n',' ')\n",
    "                        if 'Annatto' in indic_lines:\n",
    "                            full_title = 'Annatto'\n",
    "                        if 'Caper' in indic_lines:\n",
    "                            full_title = 'Caper'\n",
    "                        spice2content.update({full_title : indic_lines})\n",
    "                        #print('-----SPICE: ', full_title)\n",
    "                        #print('=====INDIC: ', indic_lines, '\\n')\n",
    "\n",
    "                        INDIC_FOUND = False # reset\n",
    "                        TITLE_DONE = False # reset \n",
    "                        line_idx += 1\n",
    "                        break\n",
    "                    line_idx += 1\n",
    "                                \n",
    "                                            \n",
    "          "
   ]
  },
  {
   "cell_type": "code",
   "execution_count": 4,
   "metadata": {},
   "outputs": [],
   "source": [
    "def unify_name_old(name):\n",
    "    name = name.split('(')[0].rstrip().replace(\" \", \"\").replace(\"-\", \"\").lower().capitalize().rstrip(',')\n",
    "    return name"
   ]
  },
  {
   "cell_type": "code",
   "execution_count": 5,
   "metadata": {},
   "outputs": [],
   "source": [
    "def unify_name(name):\n",
    "    name = name.split('(')[0].rstrip().replace(\"-\", \"\").lower().capitalize().rstrip(',')\n",
    "    comma_split = name.split(',')\n",
    "    if len(comma_split) > 1:\n",
    "        name = ','.join([word.rstrip().lstrip() for word in name.split(',')])\n",
    "    name = ' '.join(name.split())\n",
    "    return name"
   ]
  },
  {
   "cell_type": "code",
   "execution_count": 12,
   "metadata": {},
   "outputs": [
    {
     "name": "stdout",
     "output_type": "stream",
     "text": [
      "{'Add': 'Attention deficit disorder', 'Altitudesickness': 'Altitude sickness', 'Anascara': 'Anasarca', 'Athero sclerosis': 'Atherosclerosis', 'Atheroclerosis': 'Atherosclerosis', \"Athlete'sfoot\": \"Athlete's foot\", 'Atony': 'Atonia', 'Attentiondeficit disorder': 'Attention deficit disorder', 'Back': 'Backache', 'Bladder': 'Bladderailment', 'Blennorrhea': 'Blennorrhagia', 'Blenorrhagia': 'Blennorrhagia', 'Blenorrhea': 'Blennorrhagia', 'Bloat': 'Bloating', 'Bo': 'Body odor', 'Bodyodor': 'Body odor', 'Bone': 'Bone ache', 'Bph': 'BPH', 'Brachycardia': 'Bradycardia', 'Breast ache': 'Breast pain', 'Breastpain': 'Breast pain', 'Bugbite': 'Bug bite', 'Cancer,ovarian': 'Cancer,ovary', 'Cancer,testes': 'Cancer,testis', 'Cancer,testicle': 'Cancer,testis', 'Capillaryfragility': 'Capillary fragility', 'Cardopathy': 'Cardiopathy', 'Cellulite': 'Cellulitis', 'Cervisosis': 'Cervicosis', 'Cfs': 'CFS', 'Chaﬁng': 'Chafing', 'Chemotherapysupport': 'Chemotherapy', 'Chest': 'Chest ache', 'Chilblain': 'Chilblains', 'Childbirth': 'Child birth', 'Chole cystosis': 'Cholecystosis', 'Cholecytosis': 'Cholecystosis', 'Coldsore': 'Cold sore', 'Cornealopacity': 'Corneal opacity', 'Depres sion': 'Depression', 'Drunkenness': 'Intoxication', 'Drymouth': 'Dry mouth', 'Dusgeuzia': 'Dusgeusia', 'Dysmen orrhea': 'Dysmenorrhea', 'Dysmenor rhea': 'Dysmenorrhea', 'Dystony': 'Dystonia', 'Ear': 'Earache', 'Earach': 'Earache', 'Ebv': 'EBV', 'Epididy mosis': 'Epididymosis', 'Escher ichia': 'Escherichia', 'Escherichia': 'Escherichia', 'Exocrine hepaticinsufficiency': 'Exocrine hepatic insufficiency', 'Felons': 'Felon', 'Fibrososis': 'Fibrositis', 'Fig': 'Fig (disease)', 'Fit': 'Fits', 'Foot': 'Footache', 'Gallbladder': 'Gall bladder', 'Gatrosis': 'Gastrosis', 'Graves disease': \"Graves' disease\", \"Grave's disease\": \"Graves' disease\", 'Head': 'Headache', 'Hematachezia': 'Hematochezia', 'Hepatitis a': 'Hepatitis A', 'Hepatitis b': 'Hepatitis B', 'Hepatitis c': 'Hepatitis C', 'Hepatitisb': 'Hepatitis B', 'Hepatosis c': 'Hepatosis C', 'High bloodpressure': 'High blood pressure', 'High triglyceride': 'High triglycerides', 'Highblood pressure': 'High blood pressure', 'Highcholesterol': 'High cholesterol', 'Hightriglyceride': 'High triglycerides', 'Hip': 'Hipache', 'Hip ache': 'Hipache', 'Hiv': 'HIV', 'Hive': 'Hives', 'Hot flash': 'Hot flashes', 'Hydrocephalus': 'Hydrocephaly', 'Hypere mesis': 'Hyperemesis', 'Hyperemesis': 'Hyperemesis gravidarum', 'Hyperlipemia': 'Hyperlipidemia', 'Hyperlipidemia': 'Hyperlipidemia', 'Hyperthyroid': 'Hyperthyroidism', 'Hypertony': 'Hypertonia', 'Ibd': 'IBD', 'Ibs': 'IBS', 'Iddm': 'IDDM', 'Impo tence': 'Impotence', 'Indolentulcer': 'Indolent ulcer', 'Infec tion': 'Infection', 'Inflam mation': 'Inflammation', 'Inflamation': 'Inflammation', 'Inflamma tion': 'Inflammation', 'Intermittentclaudication': 'Intermittent claudication', 'Kidney sone': 'Kidney stone', 'Kidneyinsufficiency': 'Kidney insufficiency', 'Kidneystone': 'Kidney stone', 'Knee ache': 'Knee pain', 'Laryngismus': 'Laryngismus stridulus', 'Laryngismusstridulus': 'Laryngismus stridulus', 'Leishmaniasis': 'Leishmania', 'Leishmannia': 'Leishmania', 'Leprosy': 'Lep rosy', 'Low blood presssure': 'Low blood pressure', 'Low bloodpressure': 'Low blood pressure', 'Lowblood pressure': 'Low blood pressure', 'Lung': 'Lung problem', 'Lungs': 'Lung problem', 'Maltafever': 'Malta fever', 'Melancholia': 'Melancholy', 'Mete orism': 'Meteorism', 'Morningsickness': 'Morning sickness', 'Ms': 'Multiple sclerosis', 'Multiplesclerosis': 'Multiple sclerosis', 'Myastheniagravis': 'Myasthenia gravis', 'Neck': 'Neck ache', 'Nerve': 'Nerves', 'Onany': 'Onanism', 'Onychiosis': 'Onychosis', 'Opacities': 'Opacity', 'Otitismedia': 'Otitis media', 'Ovaries': 'Ovary', 'Ovariosis': 'Ovarosis', 'Ozoena': 'Ozena', \"Parkinson's disease\": \"Parkinson's\", 'Pleurosis': 'Pleurisy', 'Pms': 'Postmenopause', 'Poison': 'Poisoning', 'Pollakisuria': 'Pollakiuria', 'Poor milksupply': 'Poor milk supply', 'Pricklyheat': 'Prickly heat', 'Prolapsus': 'Prolapse', 'Quincy': 'Quinsy', \"Raynaud's syndrome\": \"Raynaud's\", 'Roemeld syndrome': 'Roemheld syndrome', 'Roemheldsyndrome': 'Roemheld syndrome', 'Scarletfever': 'Scarlet fever', 'Sea sicknessseasickness': 'Seasickness', 'Seniledementia': 'Senile dementia', 'Shigella': 'Shigellosis', 'Shingle': 'Shingles', 'Sickle cell': 'Sickle cell anemia', 'Sicklecell anemia': 'Sickle cell anemia', 'Side pain': 'Side ache', 'Sideache': 'Side ache', 'Skin': 'Skin disease', 'Sle': 'Lupus', 'Snakebite': 'Snake bite', 'Sniffle': 'Sniffles', 'Sorethroat': 'Sore throat', 'Staphylo coccus': 'Staphylococcus', 'Stom achache': 'Stomachache', 'Stomach': 'Stomachache', 'Strains': 'Strain', 'Streptococcus': 'Strepto coccus', 'Sweat': 'Sweating', 'Syndromex': 'Syndrome x', 'Telangiectasis': 'Telangiectasia', 'Thumbsucking': 'Thumb sucking', 'Tonsilosis': 'Tonsillosis', 'Toothache': 'Tooth ache', 'Tri chomonas': 'Trichomonas', 'Trichomonaisis': 'Trichomoniasis', 'Valvularinsufficiency': 'Valvular insufficiency', 'Waterretention': 'Water retention', 'Xerostoma': 'Xerostomia', 'Yaw': 'Yaws', 'Yellowfever': 'Yellow fever', 'Biliarydyskinesia': 'Biliary dyskinesia', 'Dys pepsia': 'Dyspepsia', 'Lachri mosis': 'Lachrimosis', 'Rsv': 'RSV', 'Schistosomi asis': 'Schistosomiasis', 'Staphy lococcus': 'Staphylococcus', 'Xray': 'X ray', 'Bron chiectasis': 'Bronchiectasis', 'Paraty phus': 'Paratyphus', 'Head cold': 'Headcold', 'Canker sore': 'Cankersore', 'Bladder ailment': 'Bladderailment', 'Night sweats': 'Nightsweats', 'Foot ache': 'Footache', 'Hydrocele': 'Hydrocoele', 'Acidity': 'Acid indigestion', 'Acid stomach': 'Acid indigestion', 'Adiposis': 'Adiposity', 'Ameba': 'Amebiasis', 'Anorexia nervosa': 'Anorexia', 'Aneuria': 'Anuria', 'Aphtha': 'Aphthosa', 'Ascarides': 'Ascaris', 'Ascariasis': 'Ascaris', 'Calculus': 'Calculosis', 'Carcinomata': 'Carcinoma', 'Cardiopathy,spiritual': 'Cardiopathy', 'Decubosis': 'Decubitis', 'Dention': 'Dentition', 'Filaria': 'Filariasis', 'Furunculosis': 'Furuncle', 'Glucosuria': 'Glycosuria', 'Hyperlipidemic': 'Hyperlipidemia', 'Lachrimosis': 'Lacrimation', 'Lacrimosis': 'Lacrimation', 'Malaria prevention': 'Malaria', 'Myocardiosis': 'Myocardosis', 'Neuralgic': 'Neuralgia', 'Poliomyelosis': 'Poliomyelitis', 'Night sweat': 'Nightsweats', 'Cvi': 'CVI', 'Hem orrhoid': 'Hemorrhoid', 'Hrt': 'HRT', 'Low hdl': 'Low HDL', 'Lymphagosis': 'Lymphangites', 'Lymphangosis': 'Lymphangites', 'Thyroid': 'Thyroidosis', 'Vd': 'VD', 'Gon orrhea': 'Gonorrhea', 'Oph thalmia': 'Ophthalmia', 'Rheu matism': 'Rheumatism', 'Neuras thenia': 'Neurasthenia', 'Lichen sclerosis,vulval': 'Lichen sclerosus,vulvar', 'Chick enpox': 'Chickenpox', 'Rheumaticfever': 'Rheumatic fever', 'Tardivedyskinesia': 'Tardive dyskinesia'}\n"
     ]
    }
   ],
   "source": [
    "from pandas import *\n",
    "xls = ExcelFile('Handbook_Data/name_correction.xlsx')\n",
    "data = xls.parse(xls.sheet_names[0])\n",
    "orig_name = data['orig']\n",
    "replace_name = data['replace']\n",
    "orig2replace = dict(zip(orig_name, replace_name))\n",
    "#orig2replace_df = DataFrame(orig2replace.items(), columns=['orig', 'replace'])\n",
    "#orig2replace_df.to_excel('Handbook_Data/indic_all_categorized.xlsx', sheet_name=xls.sheet_names[1])\n",
    "#print(orig2replace_df)\n",
    "print(orig2replace)"
   ]
  },
  {
   "cell_type": "code",
   "execution_count": 13,
   "metadata": {},
   "outputs": [
    {
     "name": "stdout",
     "output_type": "stream",
     "text": [
      "spice missing phyto entry:  Nepalese  Cardamom\n",
      "Chick enpox\n",
      "#spices with missing phyto-entry: 1\n"
     ]
    }
   ],
   "source": [
    "# Generate clean spice2info dictionary\n",
    "import unidecode\n",
    "TAXON_list = json2dict('..\\CrawlerS\\phytochemicals\\TAXON_list.json')\n",
    "CNID_list = json2dict('../Crawlers/phytochemicals/CNID_list.json')\n",
    "count = 0\n",
    "spice2info = {}\n",
    "nonmatch_titles = []\n",
    "nonmatch_taxon = []\n",
    "name_correct = []\n",
    "indic_set = []\n",
    "for title, indic_text in spice2content.items():\n",
    "    title_split = title.split('\\n')\n",
    "    \n",
    "    sci_name = title_split[0].rstrip()\n",
    "    sci_name = re.sub('[L\\.|\\(].*','',sci_name) ##\n",
    "    \n",
    "    com_names = []\n",
    "    for i in range(len(title_split)):\n",
    "        line = title_split[i]\n",
    "        if line.isupper():\n",
    "            names = line.split(', ')\n",
    "            com_names.extend(names)\n",
    "    # keep a reference of original title \n",
    "    orig_title = {'sci-name': sci_name, 'com-names': com_names}\n",
    "\n",
    "    taxon = ''\n",
    "    cnid = ''\n",
    "    phyto_entry = {'taxon': taxon, 'cnid': cnid}\n",
    "    \n",
    "    # find matching TAXON name \n",
    "    if sci_name in TAXON_list:\n",
    "        phyto_entry['taxon'] = sci_name\n",
    "        SCINAME_MISS = False\n",
    "    else:\n",
    "        SCINAME_MISS = True\n",
    "        s = len(sci_name.split()) - 1\n",
    "        new_sci_name = sci_name\n",
    "        while s >= 0: # find matching taxon by removing suffix\n",
    "            new_sci_name = new_sci_name.strip(sci_name[s]).rstrip()\n",
    "            if new_sci_name in TAXON_list:\n",
    "                phyto_entry['taxon'] = new_sci_name\n",
    "                SCINAME_MISS = False\n",
    "                break\n",
    "            s -= 1\n",
    "    # find matching CNID name \n",
    "    for name in com_names:\n",
    "        new_name = ''.join(name.split(' '))\n",
    "        if new_name in CNID_list:\n",
    "            phyto_entry['cnid'] = new_name\n",
    "            SCINAME_MISS = False\n",
    "            break\n",
    "    indic_match = re.match('^Indications[\\ ]+\\((((?!\\—).)*)\\)[\\ ]*—[\\ ]*(((?!\\.).)*)\\.', indic_text)\n",
    "    major_name = indic_match[1]\n",
    "    if SCINAME_MISS:\n",
    "        major_name_upper = ''.join(major_name.split(' ')).upper()\n",
    "        if major_name_upper in CNID_list:\n",
    "            phyto_entry['cnid'] = major_name_upper\n",
    "            SCINAME_MISS = False\n",
    "    if major_name == 'Cardamon ':\n",
    "        major_name = 'Cardamon'\n",
    "        phyto_entry['cnid'] = 'MALABARCARDAMOM'\n",
    "        SCINAME_MISS = False\n",
    "    if SCINAME_MISS == True:\n",
    "        count += 1\n",
    "        print('spice missing phyto entry: ', major_name)\n",
    "    indic_content = indic_match[3]\n",
    "    indic_list = re.findall('[A-Za-z][^\\()]*[\\ ]+\\([f0-9]', indic_content)\n",
    "    indic2score = {}\n",
    "    for indic in indic_list:\n",
    "        indication = unify_name(indic)\n",
    "        # name correction   \n",
    "        if indication in orig2replace.keys():\n",
    "            name_correct.append(indication)\n",
    "            indication = orig2replace[indication]\n",
    "        indication = unidecode.unidecode(indication)\n",
    "        if indication in ['Inflam mation','Inflamma tion']:\n",
    "            indication = 'Inflammation'\n",
    "        indic_set.append(indication)\n",
    "        score = re.match('.* \\((.*)', indic)[1]\n",
    "        indic2score.update({indication:score})\n",
    "    if major_name == 'Guinea Grains':\n",
    "        indic2score.update({'Constipation':'f'})\n",
    "        indic2score.update({'Blennorrhagia':'f'})\n",
    "        indic2score.update({'Earach':'f'})\n",
    "    # make sure major name (spice key) have consistent case\n",
    "    major_name = ' '.join(major_name.lower().capitalize().split())\n",
    "    spice2info.update({major_name:\n",
    "                      {'orig_title': orig_title,\n",
    "                       'phyto_entry': phyto_entry,\n",
    "                       'indication2score': indic2score}\n",
    "                      })\n",
    "\n",
    "dict2json(spice2info, folder + 'spice2info_spicehnd.json')\n",
    "print('#spices with missing phyto-entry:', count)"
   ]
  },
  {
   "cell_type": "code",
   "execution_count": 14,
   "metadata": {},
   "outputs": [
    {
     "data": {
      "text/plain": [
       "\"\\nimport pandas as pd\\nindic_set = set(indic_set)\\nreplace = []\\norig = []\\nfor indic in indic_set:\\n    indic_nospace = indic.replace(' ', '') \\n    if indic_nospace in indic_set and indic_nospace != indic:\\n        orig.append(indic_nospace)\\n        replace.append(indic)\\nprint(orig)\\norig2replace_space = dict(zip(orig, replace))\\norig2replace_space_df = pd.DataFrame(orig2replace_space.items(), columns=['orig', 'replace'])\\n#orig2replace_space_df.to_excel('Handbook_Data/name_correction_space.xlsx')\\n\""
      ]
     },
     "execution_count": 14,
     "metadata": {},
     "output_type": "execute_result"
    }
   ],
   "source": [
    "'''\n",
    "import pandas as pd\n",
    "indic_set = set(indic_set)\n",
    "replace = []\n",
    "orig = []\n",
    "for indic in indic_set:\n",
    "    indic_nospace = indic.replace(' ', '') \n",
    "    if indic_nospace in indic_set and indic_nospace != indic:\n",
    "        orig.append(indic_nospace)\n",
    "        replace.append(indic)\n",
    "print(orig)\n",
    "orig2replace_space = dict(zip(orig, replace))\n",
    "orig2replace_space_df = pd.DataFrame(orig2replace_space.items(), columns=['orig', 'replace'])\n",
    "#orig2replace_space_df.to_excel('Handbook_Data/name_correction_space.xlsx')\n",
    "'''"
   ]
  },
  {
   "cell_type": "code",
   "execution_count": 15,
   "metadata": {},
   "outputs": [
    {
     "name": "stdout",
     "output_type": "stream",
     "text": [
      "90\n",
      "{'Coldsore', 'Attentiondeficit disorder', 'Bone', 'Breastpain', 'Low bloodpressure', 'Cervisosis', 'Earach', 'Hyperlipemia', 'Drymouth', 'Xray', 'Dention', 'Roemheldsyndrome', 'Roemeld syndrome', 'Sideache', 'Lung', 'Inflamma tion', 'Onany', 'Hepatitis a', 'Thyroid', 'Indolentulcer', 'Sle', 'Low hdl', 'Hip', 'Seniledementia', 'Graves disease', 'Yaw', 'Head', 'Breast ache', 'High bloodpressure', 'Hematachezia', 'Inflam mation', 'Kidney sone', \"Raynaud's syndrome\", 'Biliarydyskinesia', 'Anascara', 'Maltafever', 'Neck', 'Kidneyinsufficiency', 'Bodyodor', 'Adiposis', 'Pollakisuria', 'Yellowfever', 'Sweat', 'Hyperlipidemic', 'Ear', 'Multiplesclerosis', 'Chemotherapysupport', 'Iddm', 'Low blood presssure', 'Ascariasis', 'Morningsickness', 'Highcholesterol', 'Thumbsucking', 'Hepatitis c', 'Tardivedyskinesia', 'Night sweats', 'Atheroclerosis', 'Acidity', 'Exocrine hepaticinsufficiency', 'Rheumaticfever', 'Poor milksupply', 'Valvularinsufficiency', 'Fit', \"Athlete'sfoot\", 'Myastheniagravis', 'Ms', 'Stomach', 'Malaria prevention', 'Sniffle', 'Hyperemesis', 'Cornealopacity', 'Hepatitis b', 'Laryngismusstridulus', 'Poison', 'Inflamation', 'Cardiopathy,spiritual', 'Scarletfever', 'Glucosuria', 'Drunkenness', 'Hip ache', 'Foot', 'Sea sicknessseasickness', 'Back', \"Grave's disease\", 'Highblood pressure', 'Hydrocephalus', 'Hrt', 'Brachycardia', 'Lymphangosis', 'Melancholia', 'Cancer,ovarian', 'Nerve', 'Capillaryfragility', 'Gatrosis', 'Waterretention', 'Intermittentclaudication', 'Kidneystone', 'Opacities', 'Blenorrhagia', 'Hypertony', 'Skin', 'Fig', 'Pricklyheat', 'Otitismedia', 'Shingle', 'Ozoena', 'Cvi', 'Lacrimosis', 'Dystony', 'Quincy', 'Bladder', 'Sorethroat', 'Neuralgic', 'Sickle cell', 'Acid stomach', 'Rsv', 'Altitudesickness', 'Strains', 'Hightriglyceride', 'Hive', 'Poliomyelosis', 'Prolapsus', \"Parkinson's disease\", 'Ovaries', 'Hepatitisb', 'Side pain', 'Ascarides', 'Dusgeuzia', 'Fibrososis', 'Gallbladder', 'Telangiectasis', 'Lichen sclerosis,vulval', 'Foot ache', 'Lowblood pressure', 'Knee ache', 'Myocardiosis'}\n"
     ]
    }
   ],
   "source": [
    "name_correct = set(name_correct)\n",
    "print(len(name_correct))\n",
    "print(orig2replace.keys() - name_correct)"
   ]
  },
  {
   "cell_type": "code",
   "execution_count": 16,
   "metadata": {},
   "outputs": [
    {
     "data": {
      "text/plain": [
       "{'Blenorrhagia', 'Earach', 'Hepatitis b'}"
      ]
     },
     "execution_count": 16,
     "metadata": {},
     "output_type": "execute_result"
    }
   ],
   "source": [
    "a = {'Kidney sone', 'Lung', 'Prolapsus', 'Hive', 'Atheroclerosis', 'Sickle cell', 'Chemotherapysupport', 'Sweat', 'Hyperlipemia', 'Cervisosis', 'Dystony', 'Head', 'Anascara', 'Poison', \"Parkinson's disease\", 'Fit', 'Neck', 'Bone', 'Cancerovarian', 'Brachycardia', 'Hydrocephalus', \"Graves' disease\", 'Skin', 'Hepatitis b', 'Earach', 'Melancholia', 'Bladder', 'Sea sicknessseasickness', 'Telangiectasis', 'Strains', 'Knee ache', 'Hepatitis a', 'Sle', 'Iddm', 'Fig', \"Grave's disease\", 'Hip', 'Ear', 'Onany', 'Gatrosis', 'Breast ache', 'Graves disease', 'Hypertony', 'Drunkenness', 'Hyperemesis', 'Roemeld syndrome', \"Raynaud's syndrome\", 'Pollakisuria', 'Blenorrhagia', 'Quincy', 'Nerve', 'Shingle', 'Ozoena', 'Fibrososis', 'Hepatitis c', 'Opacities', 'Back', 'Ovaries', 'Foot', 'Yaw', 'Ms'}\n",
    "b = {'Cardopathy', 'Blenorrhagia', 'Dysgeuzia', 'Leishmannia', 'Earach', 'Trichomonaisis', 'Onychiosis', 'Hepatosis c', 'Night sweat', 'Cholecytosis', 'Lungs', 'Felons', 'Chaﬁng', 'Hepatitis b'}\n",
    "a.intersection(b)"
   ]
  },
  {
   "cell_type": "code",
   "execution_count": 17,
   "metadata": {},
   "outputs": [
    {
     "name": "stdout",
     "output_type": "stream",
     "text": [
      "66\n"
     ]
    }
   ],
   "source": [
    "print(len(spice2info.keys()))\n",
    "spice2indic = json2dict('indication_dict_spices_final.json')\n",
    "#print('spices missing info:', spice2indic.keys() - spice2info.keys())"
   ]
  },
  {
   "cell_type": "code",
   "execution_count": null,
   "metadata": {},
   "outputs": [],
   "source": []
  }
 ],
 "metadata": {
  "kernelspec": {
   "display_name": "Python 3",
   "language": "python",
   "name": "python3"
  },
  "language_info": {
   "codemirror_mode": {
    "name": "ipython",
    "version": 3
   },
   "file_extension": ".py",
   "mimetype": "text/x-python",
   "name": "python",
   "nbconvert_exporter": "python",
   "pygments_lexer": "ipython3",
   "version": "3.6.8"
  }
 },
 "nbformat": 4,
 "nbformat_minor": 2
}
