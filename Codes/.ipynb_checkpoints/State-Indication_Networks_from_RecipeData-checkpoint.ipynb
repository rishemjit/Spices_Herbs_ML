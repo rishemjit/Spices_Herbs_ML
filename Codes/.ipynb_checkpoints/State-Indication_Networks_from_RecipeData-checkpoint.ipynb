{
 "cells": [
  {
   "cell_type": "markdown",
   "metadata": {},
   "source": [
    "# we are not using these codes any more\n"
   ]
  },
  {
   "cell_type": "code",
   "execution_count": 1,
   "metadata": {
    "scrolled": false
   },
   "outputs": [],
   "source": [
    "import json\n",
    "import re\n",
    "from xlrd import open_workbook\n",
    "import pandas\n",
    "from pandas import ExcelWriter\n",
    "import math\n",
    "import numpy as np\n",
    "from itertools import chain\n",
    "from bs4 import BeautifulSoup\n",
    "import networkx as nx\n",
    "from networkx.algorithms import bipartite\n",
    "from Graph_Helpers import *"
   ]
  },
  {
   "cell_type": "code",
   "execution_count": 2,
   "metadata": {},
   "outputs": [
    {
     "data": {
      "text/plain": [
       "'\\nState - Indications (Recipe data)\\nstate - cuisine - spice recipe - spice recipes(spice ingredients) - herbs/spices (handbook) - indications(handbook)\\n'"
      ]
     },
     "execution_count": 2,
     "metadata": {},
     "output_type": "execute_result"
    }
   ],
   "source": [
    "'''\n",
    "State - Indications (Recipe data)\n",
    "state - cuisine - spice recipe - spice recipes(spice ingredients) - herbs/spices (handbook) - indications(handbook)\n",
    "'''"
   ]
  },
  {
   "cell_type": "markdown",
   "metadata": {},
   "source": [
    "## Spice Recipe : Spice hnd ##   \n",
    "### spice_dict --> 'spice_recipe_dict.json' ###"
   ]
  },
  {
   "cell_type": "code",
   "execution_count": 3,
   "metadata": {},
   "outputs": [
    {
     "name": "stdout",
     "output_type": "stream",
     "text": [
      "Number of Spices in tarla dalal:  137\n",
      "Number of related Spices (handbook):  107\n"
     ]
    }
   ],
   "source": [
    "# SPICE RECIPE - SPICE (HANDBOOK) \n",
    "# Mapping between spice (appeared in recipes) and spice/herb ingre(appeared in handbooks)\n",
    " \n",
    "# spice recipe data excel modified after compared to tarla and sanjeev \n",
    "# bay leaves or bay leaf \n",
    "# pigeon pea (if contain pegeon pea then include)\n",
    "# roasted coconut (if contain coconut then include)\n",
    "# couldn't find cassia, chinese 5 spice powder, sage, sandwich masala, marjoram, coloured aniseed sweets,black mustard seed oil in tarla or sanjeev\n",
    "\n",
    "import unidecode\n",
    "\n",
    "\n",
    "result_folder= 'Derived_Data/StateIndicationNetwork/'\n",
    "\n",
    "write_file = result_folder+'spicerecipe_spicehnd_dict.json'\n",
    "spice_excel = pandas.read_excel('../Crawlers/OtherData/recipespice_data1.xlsx')   # remove 'corainder' since it doesn't occur in the handbook\n",
    "spice_list = spice_excel.values.tolist()\n",
    "\n",
    "spice_dict = {}\n",
    "\n",
    "for line in spice_list: \n",
    "    if type(line[1]) is not float and line[1] !='NS': # if not 'NS' and 'NA'; line[1] is entire unicode string\n",
    "        l = re.sub('(NA_|NS_)[^,]*,','',line[1]) # remove 'NA_','NS_' prefix from the string \n",
    "        l = [re.sub('  ',' ',item.lstrip().rstrip().lower()) for item in l.split(',')] # convert string of items to list of items and remove leading spaces\n",
    "        if(l == []): # if item empty, not insert into dict\n",
    "            continue\n",
    "        s = re.sub('  ',' ',line[0]).strip()\n",
    "        #print(s,l)\n",
    "        spice_dict.update({s.lower():l})\n",
    "dict2json(spice_dict, write_file)   \n",
    "\n",
    "spices_hnd = set(list(chain.from_iterable(spice_dict.values()))) # hndbook spice ingredients in spice recipe\n",
    "spice_recipes= list(spice_dict.keys())  # spices appeared in Tarla Dalal recipe data  \n",
    "\n",
    "print('Number of Spices in tarla dalal: ', len(spice_recipes)) # 109\n",
    "print('Number of related Spices (handbook): ', len(spices_hnd)) # 46 "
   ]
  },
  {
   "cell_type": "code",
   "execution_count": 4,
   "metadata": {},
   "outputs": [
    {
     "data": {
      "text/plain": [
       "[('angelica', ['angelica']),\n",
       " ('aniseed', ['anise']),\n",
       " ('asafoetida', ['asafetida']),\n",
       " ('basil', ['basil'])]"
      ]
     },
     "execution_count": 4,
     "metadata": {},
     "output_type": "execute_result"
    }
   ],
   "source": [
    "list(spice_dict.items())[1:5]"
   ]
  },
  {
   "cell_type": "code",
   "execution_count": 5,
   "metadata": {},
   "outputs": [
    {
     "data": {
      "text/plain": [
       "\"\\nspice_hnd = set(list(chain.from_iterable(spice_dict.values())))\\nspice_mincover = json2dict('MinSetCover_spice_all.json')\\nfor i in range(len(spice_mincover)):\\n    spice_mincover[i] = ' '.join(spice_mincover[i].lower().split())\\noverlap = set(spice_mincover).intersection(set(spice_hnd))\\nprint(len(list(overlap)))\\n#print(set(spice_hnd))\\n#print(spice_mincover)\\n\""
      ]
     },
     "execution_count": 5,
     "metadata": {},
     "output_type": "execute_result"
    }
   ],
   "source": [
    "'''\n",
    "spice_hnd = set(list(chain.from_iterable(spice_dict.values())))\n",
    "spice_mincover = json2dict('MinSetCover_spice_all.json')\n",
    "for i in range(len(spice_mincover)):\n",
    "    spice_mincover[i] = ' '.join(spice_mincover[i].lower().split())\n",
    "overlap = set(spice_mincover).intersection(set(spice_hnd))\n",
    "print(len(list(overlap)))\n",
    "#print(set(spice_hnd))\n",
    "#print(spice_mincover)\n",
    "'''"
   ]
  },
  {
   "cell_type": "markdown",
   "metadata": {},
   "source": [
    "## Tarla raw data, Sanjeev raw data ##\n",
    "### recipe_tarla, recipe_sanj ###"
   ]
  },
  {
   "cell_type": "code",
   "execution_count": 6,
   "metadata": {},
   "outputs": [
    {
     "name": "stdout",
     "output_type": "stream",
     "text": [
      "Number of Recipe (Tarla):  3876\n",
      "Number of Recipe (Sanjeev):  9336\n"
     ]
    }
   ],
   "source": [
    "with open('../Crawlers/TarlaDalal_English/TarlaDalal.json', 'rb') as json_file:\n",
    "    recipe_tarla = [json.loads(line.decode('utf-8')) for line in json_file]\n",
    "with open('../Crawlers/SanjeevKapoor/SKapoor/SanjeevKapoor.json', 'r') as json_file:\n",
    "    recipe_sanj = json.load(json_file)\n",
    "\n",
    "print('Number of Recipe (Tarla): ', len(recipe_tarla))\n",
    "print('Number of Recipe (Sanjeev): ', len(recipe_sanj))"
   ]
  },
  {
   "cell_type": "code",
   "execution_count": 7,
   "metadata": {},
   "outputs": [
    {
     "data": {
      "text/plain": [
       "{'_id': {'$oid': '5c8a395b55600318158edefa'},\n",
       " 'nutrients': {'Energy': '88 cal',\n",
       "  'Protein': '3.2 g',\n",
       "  'Carbohydrates': '14.1 g',\n",
       "  'Fiber': '2.9 g',\n",
       "  'Fat': '2.1 g',\n",
       "  'Cholesterol': '0 mg',\n",
       "  'Sodium': '9.7 mg'},\n",
       " 'instructions': {'text': ['Combine all the ingredients in a deep bowl and knead into a soft dough using enough water.',\n",
       "   'Divide the dough into 6 equal portions and keep aside.',\n",
       "   'Heat a non-stick tava (griddle) and grease it lightly using ? tsp of oil.',\n",
       "   'Wet your fingers, place a portion of the dough on a hot tava (griddle) and pat it with the help of fingers to make a 100 mm (4”) diameter circle.',\n",
       "   'Cook on both the sides, using ? tsp of oil, till it turns golden brown in colour from both the sides.',\n",
       "   'Repeat steps 3 to 5 to make 5 more thalipeeth.',\n",
       "   'Serve immediately.'],\n",
       "  'raw': ['<ol itemprop=\"recipeInstructions\" itemscope itemtype=\"https://schema.org/HowToSection\" class=\"rcpprocsteps\"><span style=\"display:none;\" itemprop=\"name\">Method</span><li itemprop=\"itemListElement\" itemscope itemtype=\"https://schema.org/HowToStep\"><span itemprop=\"text\">Combine all the ingredients in a deep bowl and knead into a soft dough using enough water.</span></li><li itemprop=\"itemListElement\" itemscope itemtype=\"https://schema.org/HowToStep\"><span itemprop=\"text\">Divide the dough into 6 equal portions and keep aside.</span></li><li itemprop=\"itemListElement\" itemscope itemtype=\"https://schema.org/HowToStep\"><span itemprop=\"text\">Heat a non-stick tava (griddle) and grease it lightly using ? tsp of oil.</span></li><li itemprop=\"itemListElement\" itemscope itemtype=\"https://schema.org/HowToStep\"><span itemprop=\"text\">Wet your fingers, place a portion of the dough on a hot tava (griddle) and pat it with the help of fingers to make a 100 mm (4”) diameter circle.</span></li><li itemprop=\"itemListElement\" itemscope itemtype=\"https://schema.org/HowToStep\"><span itemprop=\"text\">Cook on both the sides, using ? tsp of oil, till it turns golden brown in colour from both the sides.</span></li><li itemprop=\"itemListElement\" itemscope itemtype=\"https://schema.org/HowToStep\"><span itemprop=\"text\">Repeat steps 3 to 5 to make 5 more thalipeeth.</span></li><li itemprop=\"itemListElement\" itemscope itemtype=\"https://schema.org/HowToStep\"><span itemprop=\"text\">Serve immediately.</span></li></ol>']},\n",
       " 'reviews': {'0': {'text': 'Hi tried thalipeeth today and loved it.\\nI used besan, wheat flour, Jowar flour and oats flour instead of bajre ka atta it tasted very good. Everyone at home enjoyed thank you ',\n",
       "   'rating': '5'},\n",
       "  '1': {'text': 'N/A', 'rating': '5'},\n",
       "  '2': {'text': 'Can i use Green moong flour and bajra flour instead of wheat and jowar flour? ',\n",
       "   'rating': '5'},\n",
       "  '3': {'text': 'N/A', 'rating': '5'},\n",
       "  '4': {'text': 'Really tasty and filling roti...', 'rating': '5'},\n",
       "  '5': {'text': 'Thalipeeth is a classic Maharashtrian thick wholesome roti. A multi grain combination of different flours bundled with cabbage and onions and spiced with a combination of chilly and coriander. A wholesome meal with some curds. ',\n",
       "   'rating': '5'},\n",
       "  'count': 6,\n",
       "  'raw': ['<div class=\"maincomment\" itemscope itemtype=\"https://schema.org/Review\" id=\"c36554\"><div class=\\'=\"commentdetails\"\\'><div itemprop=\"itemReviewed\" style=\"display:none;\" itemscope itemtype=\"https://schema.org/CreativeWork\"><span itemprop=\"name\">Nutritious Thalipeeth</span><span itemprop=\"url\">https://www.tarladalal.comNutritious-Thalipeeth-7457r</span></div><div itemprop=\"reviewRating\" itemscope itemtype=\"https://schema.org/Rating\" class=\"commentrating\"><span style=\"display:none;\" itemprop=\"ratingValue\">5</span><div style=\"background-image:url(images/recipe/unfilled_5star_white.gif);background-position:top left;background-repeat:no-repeat;width:106px;height:21px;float:left;\"><div style=\"background-image:url(images/recipe/filled_5star_white.gif);background-position:top left;background-repeat:no-repeat;width:100%;height:21px;\"></div></div></div><div style=\"margin-left:20px;float:left;width:450px;\"><div class=\"name\" itemprop=\"author\" itemscope itemtype=\"https://schema.org/Person\"><span style=\"display:none;width:0px;\" itemprop=\"name\">Mrudula</span><a href=\"#\">Mrudula</a></div><div class=\"commentdate\">\\xa0on 05 Mar 19 08:40 AM</div><br><br><span id=\"comtxt36554\" itemprop=\"reviewBody\">Hi tried thalipeeth today and loved it.\\nI used besan, wheat flour, Jowar flour and oats flour instead of bajre ka atta it tasted very good. Everyone at home enjoyed thank you </span><span style=\"display:none;\" itemprop=\"publisher\" itemscope itemtype=\"https://schema.org/Organization\"><meta itemprop=\"name\" content=\"Tarla Dalal\"></span></div><div class=\"curtainpull\"></div></div><div class=\"reply\"><a id=\"btn36554\">Reply</a></div><div id=\"parent36554\" class=\"parent\"> | Hide Replies</div><div class=\"curtainpull\"></div><div class=\"post_a_reply\" id=\"36554\"><textarea id=\"txt36554\" rows=\"5\" cols=\"75\"></textarea><div class=\"post\" style=\"float:left;\"><button id=\"post36554\">Post</button></div><div class=\"cancelpost\" style=\"float:left;\"><button id=\"cancel36554\">Cancel</button></div><div class=\"curtainpull\"></div></div></div>',\n",
       "   '<div class=\"maincomment\" itemscope itemtype=\"https://schema.org/Review\" id=\"c35477\"><div class=\\'=\"commentdetails\"\\'><div itemprop=\"itemReviewed\" style=\"display:none;\" itemscope itemtype=\"https://schema.org/CreativeWork\"><span itemprop=\"name\">Nutritious Thalipeeth</span><span itemprop=\"url\">https://www.tarladalal.comNutritious-Thalipeeth-7457r</span></div><div itemprop=\"reviewRating\" itemscope itemtype=\"https://schema.org/Rating\" class=\"commentrating\"><span style=\"display:none;\" itemprop=\"ratingValue\">5</span><div style=\"background-image:url(images/recipe/unfilled_5star_white.gif);background-position:top left;background-repeat:no-repeat;width:106px;height:21px;float:left;\"><div style=\"background-image:url(images/recipe/filled_5star_white.gif);background-position:top left;background-repeat:no-repeat;width:100%;height:21px;\"></div></div></div><div style=\"margin-left:20px;float:left;width:450px;\"><div class=\"name\" itemprop=\"author\" itemscope itemtype=\"https://schema.org/Person\"><span style=\"display:none;width:0px;\" itemprop=\"name\">Suoerb</span><a href=\"#\">Suoerb</a></div><div class=\"commentdate\">\\xa0on 14 Nov 18 07:00 PM</div><br><br><span id=\"comtxt35477\" itemprop=\"reviewBody\"> </span><span style=\"display:none;\" itemprop=\"publisher\" itemscope itemtype=\"https://schema.org/Organization\"><meta itemprop=\"name\" content=\"Tarla Dalal\"></span></div><div class=\"curtainpull\"></div></div><div class=\"reply\"><a id=\"btn35477\">Reply</a></div><div class=\"curtainpull\"></div><div class=\"post_a_reply\" id=\"35477\"><textarea id=\"txt35477\" rows=\"5\" cols=\"75\"></textarea><div class=\"post\" style=\"float:left;\"><button id=\"post35477\">Post</button></div><div class=\"cancelpost\" style=\"float:left;\"><button id=\"cancel35477\">Cancel</button></div><div class=\"curtainpull\"></div></div></div>',\n",
       "   '<div class=\"maincomment\" itemscope itemtype=\"https://schema.org/Review\" id=\"c35184\"><div class=\\'=\"commentdetails\"\\'><div itemprop=\"itemReviewed\" style=\"display:none;\" itemscope itemtype=\"https://schema.org/CreativeWork\"><span itemprop=\"name\">Nutritious Thalipeeth</span><span itemprop=\"url\">https://www.tarladalal.comNutritious-Thalipeeth-7457r</span></div><div itemprop=\"reviewRating\" itemscope itemtype=\"https://schema.org/Rating\" class=\"commentrating\"><span style=\"display:none;\" itemprop=\"ratingValue\">5</span><div style=\"background-image:url(images/recipe/unfilled_5star_white.gif);background-position:top left;background-repeat:no-repeat;width:106px;height:21px;float:left;\"><div style=\"background-image:url(images/recipe/filled_5star_white.gif);background-position:top left;background-repeat:no-repeat;width:100%;height:21px;\"></div></div></div><div style=\"margin-left:20px;float:left;width:450px;\"><div class=\"name\" itemprop=\"author\" itemscope itemtype=\"https://schema.org/Person\"><span style=\"display:none;width:0px;\" itemprop=\"name\">Twara Patel</span><a href=\"#\">Twara Patel</a></div><div class=\"commentdate\">\\xa0on 17 Oct 18 02:37 PM</div><br><br><span id=\"comtxt35184\" itemprop=\"reviewBody\">Can i use Green moong flour and bajra flour instead of wheat and jowar flour? </span><span style=\"display:none;\" itemprop=\"publisher\" itemscope itemtype=\"https://schema.org/Organization\"><meta itemprop=\"name\" content=\"Tarla Dalal\"></span></div><div class=\"curtainpull\"></div></div><div class=\"reply\"><a id=\"btn35184\">Reply</a></div><div id=\"parent35184\" class=\"parent\"> | Hide Replies</div><div class=\"curtainpull\"></div><div class=\"post_a_reply\" id=\"35184\"><textarea id=\"txt35184\" rows=\"5\" cols=\"75\"></textarea><div class=\"post\" style=\"float:left;\"><button id=\"post35184\">Post</button></div><div class=\"cancelpost\" style=\"float:left;\"><button id=\"cancel35184\">Cancel</button></div><div class=\"curtainpull\"></div></div></div>',\n",
       "   '<div class=\"maincomment\" itemscope itemtype=\"https://schema.org/Review\" id=\"c27620\"><div class=\\'=\"commentdetails\"\\'><div itemprop=\"itemReviewed\" style=\"display:none;\" itemscope itemtype=\"https://schema.org/CreativeWork\"><span itemprop=\"name\">Nutritious Thalipeeth</span><span itemprop=\"url\">https://www.tarladalal.comNutritious-Thalipeeth-7457r</span></div><div itemprop=\"reviewRating\" itemscope itemtype=\"https://schema.org/Rating\" class=\"commentrating\"><span style=\"display:none;\" itemprop=\"ratingValue\">5</span><div style=\"background-image:url(images/recipe/unfilled_5star_white.gif);background-position:top left;background-repeat:no-repeat;width:106px;height:21px;float:left;\"><div style=\"background-image:url(images/recipe/filled_5star_white.gif);background-position:top left;background-repeat:no-repeat;width:100%;height:21px;\"></div></div></div><div style=\"margin-left:20px;float:left;width:450px;\"><div class=\"name\" itemprop=\"author\" itemscope itemtype=\"https://schema.org/Person\"><span style=\"display:none;width:0px;\" itemprop=\"name\">Nenanta Tiple</span><a href=\"#\">Nenanta Tiple</a></div><div class=\"commentdate\">\\xa0on 28 Jun 17 10:16 PM</div><br><br><span id=\"comtxt27620\" itemprop=\"reviewBody\"></span><span style=\"display:none;\" itemprop=\"publisher\" itemscope itemtype=\"https://schema.org/Organization\"><meta itemprop=\"name\" content=\"Tarla Dalal\"></span></div><div class=\"curtainpull\"></div></div><div class=\"reply\"><a id=\"btn27620\">Reply</a></div><div class=\"curtainpull\"></div><div class=\"post_a_reply\" id=\"27620\"><textarea id=\"txt27620\" rows=\"5\" cols=\"75\"></textarea><div class=\"post\" style=\"float:left;\"><button id=\"post27620\">Post</button></div><div class=\"cancelpost\" style=\"float:left;\"><button id=\"cancel27620\">Cancel</button></div><div class=\"curtainpull\"></div></div></div>',\n",
       "   '<div class=\"maincomment\" itemscope itemtype=\"https://schema.org/Review\" id=\"c27540\"><div class=\\'=\"commentdetails\"\\'><div itemprop=\"itemReviewed\" style=\"display:none;\" itemscope itemtype=\"https://schema.org/CreativeWork\"><span itemprop=\"name\">Nutritious Thalipeeth</span><span itemprop=\"url\">https://www.tarladalal.com/Nutritious-Thalipeeth-7457r</span></div><div itemprop=\"reviewRating\" itemscope itemtype=\"https://schema.org/Rating\" class=\"commentrating\"><span style=\"display:none;\" itemprop=\"ratingValue\">5</span><div style=\"background-image:url(images/recipe/unfilled_5star_white.gif);background-position:top left;background-repeat:no-repeat;width:106px;height:21px;float:left;\"><div style=\"background-image:url(images/recipe/filled_5star_white.gif);background-position:top left;background-repeat:no-repeat;width:100%;height:21px;\"></div></div></div><div style=\"margin-left:20px;float:left;width:450px;\"><div class=\"name\" itemprop=\"author\" itemscope itemtype=\"https://schema.org/Person\"><span style=\"display:none;width:0px;\" itemprop=\"name\">Healthy Eating</span></div><div class=\"name\"><a href=\"myreviews.aspx?memid=489453\">Healthy Eating</a></div><div class=\"commentdate\">\\xa0on 26 Jun 17 01:48 PM</div><br><br><span itemprop=\"reviewBody\" id=\"comtxt27540\">Really tasty and filling roti...</span><span style=\"display:none;\" itemprop=\"publisher\" itemscope itemtype=\"https://schema.org/Organization\"><meta itemprop=\"name\" content=\"Tarla Dalal\"></span></div><div class=\"curtainpull\"></div></div><div class=\"reply\"><a id=\"btn27540\">Reply</a></div>  <div class=\"curtainpull\"></div><div class=\"post_a_reply\" id=\"27540\"><textarea id=\"txt27540\" rows=\"5\" cols=\"75\"></textarea><div class=\"post\" style=\"float:left;\"><button id=\"post27540\">Post</button></div><div class=\"cancelpost\" style=\"float:left;\"><button id=\"cancel27540\">Cancel</button></div><div class=\"curtainpull\"></div></div></div>',\n",
       "   '<div class=\"maincomment\" itemscope itemtype=\"https://schema.org/Review\" id=\"c2199\"><div class=\\'=\"commentdetails\"\\'><div itemprop=\"itemReviewed\" style=\"display:none;\" itemscope itemtype=\"https://schema.org/CreativeWork\"><span itemprop=\"name\">Nutritious Thalipeeth</span><span itemprop=\"url\">https://www.tarladalal.com/Nutritious-Thalipeeth-7457r</span></div><div itemprop=\"reviewRating\" itemscope itemtype=\"https://schema.org/Rating\" class=\"commentrating\"><span style=\"display:none;\" itemprop=\"ratingValue\">5</span><div style=\"background-image:url(images/recipe/unfilled_5star_white.gif);background-position:top left;background-repeat:no-repeat;width:106px;height:21px;float:left;\"><div style=\"background-image:url(images/recipe/filled_5star_white.gif);background-position:top left;background-repeat:no-repeat;width:100%;height:21px;\"></div></div></div><div style=\"margin-left:20px;float:left;width:450px;\"><div class=\"name\" itemprop=\"author\" itemscope itemtype=\"https://schema.org/Person\"><span style=\"display:none;width:0px;\" itemprop=\"name\">Healthy Eating</span></div><div class=\"name\"><a href=\"myreviews.aspx?memid=489453\">Healthy Eating</a></div><div class=\"commentdate\">\\xa0on 20 Jun 12 02:28 PM</div><br><br><span itemprop=\"reviewBody\" id=\"comtxt2199\">Thalipeeth is a classic Maharashtrian thick wholesome roti. A multi grain combination of different flours bundled with cabbage and onions and spiced with a combination of chilly and coriander. A wholesome meal with some curds. </span><span style=\"display:none;\" itemprop=\"publisher\" itemscope itemtype=\"https://schema.org/Organization\"><meta itemprop=\"name\" content=\"Tarla Dalal\"></span></div><div class=\"curtainpull\"></div></div><div class=\"reply\"><a id=\"btn2199\">Reply</a></div>  <div class=\"curtainpull\"></div><div class=\"post_a_reply\" id=\"2199\"><textarea id=\"txt2199\" rows=\"5\" cols=\"75\"></textarea><div class=\"post\" style=\"float:left;\"><button id=\"post2199\">Post</button></div><div class=\"cancelpost\" style=\"float:left;\"><button id=\"cancel2199\">Cancel</button></div><div class=\"curtainpull\"></div></div></div>']},\n",
       " 'ingredients': {'name': ['bajra (black millet) flour',\n",
       "   'jowar (white millet) flour',\n",
       "   'whole wheat flour (gehun ka atta)',\n",
       "   'besan (bengal gram flour)',\n",
       "   'shredded cabbage',\n",
       "   'chopped onions',\n",
       "   'chopped green chillies',\n",
       "   'coriander-cumin seeds (dhania-jeera) powder',\n",
       "   'chopped coriander (dhania)',\n",
       "   'salt',\n",
       "   'oil'],\n",
       "  'qty': ['3 tbsp',\n",
       "   '3 tbsp',\n",
       "   '3 tbsp',\n",
       "   '3 tbsp',\n",
       "   '3/4 cup',\n",
       "   '1/4 cup',\n",
       "   '1/2 tsp',\n",
       "   '1/2 tsp',\n",
       "   '2 tbsp',\n",
       "   'N/A',\n",
       "   '1 1/2 tsp'],\n",
       "  'raw': []},\n",
       " 'title': {'text': 'Nutritious Thalipeeth',\n",
       "  'raw': '<span id=\"ctl00_cntrightpanel_lblRecipeName\" itemprop=\"name\">Nutritious Thalipeeth</span>'},\n",
       " 'origin': {'publisher': {'name': 'Tarla Dalal',\n",
       "   'uri': 'https://www.tarladalal.com/'},\n",
       "  'uri': 'https://www.tarladalal.com/Nutritious-Thalipeeth-7457r'},\n",
       " 'country': 'IN',\n",
       " 'language': 'hin',\n",
       " 'recipecategory': ['Indian Party',\n",
       "  'High Tea Party',\n",
       "  'Tava',\n",
       "  'Diabetic Breakfast',\n",
       "  'Diabetic  Starters & Snacks',\n",
       "  'Healthy Quick Snack Ideas'],\n",
       " 'cuisine': ['Maharashtrian Breakfast'],\n",
       " 'images': {'raw': 'members/9306/big/big_nutritious_thalipeeth-8554.jpg?size=696X905'},\n",
       " 'technicals': {'time': {'cooking': ['PT10M'], 'preparation': ['PT10M']},\n",
       "  'servings': ['Makes 6 thalipeeth']},\n",
       " 'ratings': {'value': ['5']}}"
      ]
     },
     "execution_count": 7,
     "metadata": {},
     "output_type": "execute_result"
    }
   ],
   "source": [
    "recipe_tarla[0]"
   ]
  },
  {
   "cell_type": "markdown",
   "metadata": {},
   "source": [
    "## Cuisine Recipe : Ingredients(all) Dict (Tarla)  ##\n",
    "### cuisine_dict_orig -->  'tarla_recipe_dict.json' ###"
   ]
  },
  {
   "cell_type": "code",
   "execution_count": 8,
   "metadata": {},
   "outputs": [
    {
     "data": {
      "text/plain": [
       "3872"
      ]
     },
     "execution_count": 8,
     "metadata": {},
     "output_type": "execute_result"
    }
   ],
   "source": [
    "# Tarla\n",
    "# CUISINE RECIPE : INGREDIENTS (ALL)\n",
    "# tarla_recipe_dict.json\n",
    "# cuisine_dict_orig -> dict, keys-> recipe name, values-> list of ingredients\n",
    "\n",
    "cuisine_dict_orig = {}\n",
    "write_file = result_folder+ 'tarla_recipe_dict.json'\n",
    "\n",
    "for i in range(len(recipe_tarla)):\n",
    "    ingredients = recipe_tarla[i]['ingredients']['name']\n",
    "    ingredients = [' '.join(re.sub(r'\\(.*?\\)', ' ', name).split()) for name in ingredients]\n",
    "    cuisine_dict_orig.update({recipe_tarla[i]['title']['text']:ingredients})\n",
    "\n",
    "j = json.dumps(cuisine_dict_orig,indent = 4)\n",
    "with open(write_file,'w') as w_file:\n",
    "    w_file.write(j)\n",
    "\n",
    "len(cuisine_dict_orig)"
   ]
  },
  {
   "cell_type": "markdown",
   "metadata": {},
   "source": [
    "## Cuisine Recipe : Spice Recipe (Tarla) ##\n",
    "### cuisine_dict --> 'cuisinerecipe2spicerecipe_tarla.json' ###\n",
    "<br> 81/ 109 spice recipes from Tarla <br>"
   ]
  },
  {
   "cell_type": "code",
   "execution_count": 9,
   "metadata": {},
   "outputs": [
    {
     "name": "stdout",
     "output_type": "stream",
     "text": [
      "# of cuisine recipes contain spices in Tarla: 2596\n",
      "# of spice recipes in Tarla:  80\n",
      "# of spice recipes in total:  137\n",
      "\n",
      "Spice recipes missed from the entire spice recipe set for Tarla: \n",
      " {'chinese 5 spice powder\\xa0.', 'apricot', 'rosemary', 'grapefruit', 'pear', 'oats', 'thyme', 'oregano', 'peppercorn', 'canola', 'flax', 'bay', 'pigeon pea', 'chilli', 'ivy', 'sage', 'melon', 'aniseed', 'mint', 'panch phoran powder', 'tarragon', 'okra', 'black pepper', 'pumpkin', 'jasmine', 'fenugreek', 'cumin', 'sesame', 'dabeli masala powder', 'cassia', 'castor', 'mustard', 'chives', 'caraway', 'cayenne pepper', 'sandwich masala', 'broccoli', 'garden cress', 'avocado', 'panch phoran powdered', 'ivy gourd', 'celery', 'plum', 'dill', 'pumpkin seed', 'marjoram', 'peanut', 'grape', 'lotus', 'chickpea', 'fennel', 'tulsi', 'date', 'beet', 'lovage', 'cashew', 'oak'}\n"
     ]
    }
   ],
   "source": [
    "# Tarla \n",
    "# CUISINE RECIPE : SPICE RECIPE (TARLA DALA)\n",
    "# Exclude non-spice ingredients (spice recipe lower case, single space)\n",
    "\n",
    "write_file = result_folder+ 'cuisinerecipe2spicerecipe_tarla.json'\n",
    "cuisine_dict = cuisine_dict_orig.copy()\n",
    "for cuis in cuisine_dict_orig.keys():\n",
    "    ingr_list = []\n",
    "    for ingr in cuisine_dict_orig[cuis]:\n",
    "        if ' '.join(ingr.lower().split()) in spice_recipes:\n",
    "            ingr_list.append(' '.join(ingr.lower().split()))\n",
    "        if 'coconut' in ingr.lower():\n",
    "            ingr_list.append('coconut')\n",
    "        if 'pigeon pea' in ingr.lower():\n",
    "            ingr_list.append('pigeon pea')\n",
    "        if 'pomegranate' in ingr.lower():\n",
    "            ingr_list.append('pomegranate')\n",
    "    cuisine_dict[cuis] = list(set(ingr_list))\n",
    "    if ingr_list == []:   # Remove the cuisine recipe that doesn't contain spice recipes\n",
    "        cuisine_dict.pop(cuis)\n",
    "\n",
    "j = json.dumps(cuisine_dict,indent = 4)\n",
    "with open(write_file, 'w') as w_file:\n",
    "    w_file.write(j)\n",
    "    \n",
    "spice_recipes_tarla = set(list(chain.from_iterable(cuisine_dict.values()))) \n",
    "\n",
    "print('# of cuisine recipes contain spices in Tarla:', len(cuisine_dict.keys()))\n",
    "print('# of spice recipes in Tarla: ', len(spice_recipes_tarla)) # 84 from tarla\n",
    "print('# of spice recipes in total: ', len(spice_recipes)) # 109\n",
    "print('\\nSpice recipes missed from the entire spice recipe set for Tarla: \\n', set(spice_recipes) - set(spice_recipes_tarla))"
   ]
  },
  {
   "cell_type": "markdown",
   "metadata": {},
   "source": [
    "## Cuisine Recipe : Ingredients (all) (Sanjeev) ##\n",
    "### cuisine_dict_orig_s --> 'sanjeev_recipe_dict.json' ###\n",
    "### tag_list_s ###"
   ]
  },
  {
   "cell_type": "code",
   "execution_count": 10,
   "metadata": {},
   "outputs": [
    {
     "name": "stdout",
     "output_type": "stream",
     "text": [
      "{'French', 'Indo-chinese', 'Tamil Nadu', 'Georgian', 'Portuguese', 'Oriental', 'Lebanese', 'Maharashtrian', 'Indo Chinese', 'Indo-Italian', 'Peruvian', 'Punjabi', 'Indo-Chinese', 'Fusion', 'Singaporean', 'Rajasthani', 'Polish', 'Chettinad', 'Continental', 'Chettinaad', 'Russian', 'Odia', 'Gujarati', 'Caribbean', 'fusion', 'Turkish', 'Jain', 'Mangalorean', 'Jordanian', 'Persian', 'Cuban', 'indian', 'Mexican', 'Korean', 'Mumbai', 'Mongolian', 'parsi', 'Phillipine', 'Madhya Pradesh', 'Bengali', 'Sindhi', 'North Eastern', 'Kashmiri', 'karnataka', 'Chinese', 'Middle Eastern', 'German', 'South Indian', 'Spanish', 'Indo-Mexican', 'Brazilian', 'Viennese', 'Marwari', 'Coorg', 'Uttar Pradesh', 'Sri Lankan', 'Denmark', 'Indonesian', 'TamilNadu', 'Goan', 'Kerala', 'Other', 'Indian', 'African', 'Pakistani', 'Australian', 'Moghlai', 'Karnataka', 'Swiss', 'Burmese', 'American', 'Rome', 'Greek', 'Malaysian', 'Indian Fusion', 'Vietnamese', 'Other cuisines', 'Canadian', 'Jamaican', 'Mediterranean', 'Bihari', 'Awadhi', 'British', 'Tex-Mex', 'Assam', 'Thai', 'Hyderabadi', 'Other Cuisines', 'Moroccan', 'Italian', 'Scottish', 'Andhra', 'German Cuisine', 'Parsi', 'Japanese', 'South African'}\n"
     ]
    }
   ],
   "source": [
    "# Sanjeev\n",
    "# CUISINE RECIPE : INGREDIENTS (ALL)\n",
    "\n",
    "cuisine_dict_orig_s = {}\n",
    "tag_list_s = []\n",
    "write_file = result_folder+'sanjeev_recipe_dict.json'\n",
    "for i in range(len(recipe_sanj)):\n",
    "    ingredients = recipe_sanj[i]['ingredients']['name']\n",
    "    ingredients = [' '.join(re.sub(r'\\(.*?\\)', ' ', name).split()) for name in ingredients]\n",
    "    cuisine_dict_orig_s.update({recipe_sanj[i]['title']['text']:ingredients})\n",
    "    country = recipe_sanj[i]['country']\n",
    "    tag = recipe_sanj[i]['tags']['cuisine']\n",
    "    # Consider tags that's related to 'IN\" India\n",
    "    if country == 'IN':\n",
    "        tag = recipe_sanj[i]['tags']['cuisine']\n",
    "        if tag != []:\n",
    "            tag_list_s.append(tag[0].rstrip().lstrip())\n",
    "\n",
    "j = json.dumps(cuisine_dict_orig_s,indent = 4)\n",
    "tag_set_s = set(tag_list_s)  # 102 cuisine type, see cuisinestate file for all indian cuisine name\n",
    "with open(write_file,'w') as w_file:\n",
    "    w_file.write(j)\n",
    "\n",
    "print(tag_set_s)"
   ]
  },
  {
   "cell_type": "markdown",
   "metadata": {},
   "source": [
    "## Cuisine Recipe : Spice Recipe (Sanjeev) ##\n",
    "### cuisine_dict_s -->  'cuisinerecipe_spicerecipe_dict_sanj.json' ###"
   ]
  },
  {
   "cell_type": "code",
   "execution_count": 11,
   "metadata": {},
   "outputs": [
    {
     "name": "stdout",
     "output_type": "stream",
     "text": [
      "# of cuisine recipes contain spices in Sanjeev: 4590\n",
      "# of spice recipes in Sanjeev: 88\n",
      "# of spice recipes in total: 137\n",
      "\n",
      "Spice recipes missed from the entire spice recipe set for Sanjeev: \n",
      " {'chinese 5 spice powder\\xa0.', 'cardamom', 'grapefruit', 'peppercorn', 'malgapodi powder', 'canola', 'strawberry', 'bay', 'dried ginger', 'ivy', 'sage', 'aniseed', 'vanilla', 'tandoori masala', 'cranberry', 'black pepper', 'jasmine', 'fenugreek', 'lime', 'cumin', 'sesame', 'cassia', 'flax', 'sandwich masala', 'coffee', 'caraway', 'angelica', 'oak', 'garden cress', 'camphor', 'almond', 'pulao masala', 'ivy gourd', 'pumpkin seed', 'marjoram', 'dabeli masala', 'biryani masala powder', 'grape', 'lotus', 'chickpea', 'fennel', 'tulsi', 'panch phoron', 'date', 'beet', 'lovage', 'cashew', 'nigella seeds', 'degi mirch'}\n"
     ]
    }
   ],
   "source": [
    "# Sanjeev\n",
    "# CUISINE RECIPE : SPICE RECIPES (spice recipes lower case, single space)\n",
    "\n",
    "write_file = result_folder+'cuisinerecipe2spicerecipe_sanj.json'\n",
    "cuisine_dict_s = cuisine_dict_orig_s.copy()\n",
    "for cuis in cuisine_dict_orig_s.keys():\n",
    "    ingr_list = []\n",
    "    for ingr in cuisine_dict_orig_s[cuis]:\n",
    "        if ' '.join(ingr.lower().split()) in spice_recipes:\n",
    "            ingr_list.append(' '.join(ingr.lower().split()))\n",
    "        if 'coconut' in ingr.lower():\n",
    "            ingr_list.append('coconut')\n",
    "        if 'pigeon pea' in ingr.lower():\n",
    "            ingr_list.append('pigeon pea')\n",
    "        if 'pomegranate' in ingr.lower():\n",
    "            ingr_list.append('pomegranate')\n",
    "    cuisine_dict_s[cuis] = list(set(ingr_list))\n",
    "    if ingr_list == []:   # remove the cuisine recipe that doesn't contain spice recipes\n",
    "        cuisine_dict_s.pop(cuis)\n",
    "\n",
    "j = json.dumps(cuisine_dict_s,indent = 4)\n",
    "with open(write_file, 'w') as w_file:\n",
    "    w_file.write(j)\n",
    "    \n",
    "spice_recipes_sanjeev = set(list(chain.from_iterable(cuisine_dict_s.values()))) \n",
    "print('# of cuisine recipes contain spices in Sanjeev:', len(cuisine_dict_s.keys()))\n",
    "print('# of spice recipes in Sanjeev:', len(spice_recipes_sanjeev)) # 80 from sanjeev\n",
    "print('# of spice recipes in total:', len(spice_recipes)) # 109\n",
    "print('\\nSpice recipes missed from the entire spice recipe set for Sanjeev: \\n', set(spice_recipes) - set(spice_recipes_sanjeev))\n",
    "\n",
    "# Note: cardamon (green cardamon, and many other cardamom in sanjeev) "
   ]
  },
  {
   "cell_type": "code",
   "execution_count": 12,
   "metadata": {},
   "outputs": [
    {
     "name": "stdout",
     "output_type": "stream",
     "text": [
      "Spice recipes missed from both Tarla and Sanjeev: \n",
      " {'chinese 5 spice powder\\xa0.', 'grapefruit', 'peppercorn', 'canola', 'bay', 'ivy', 'sage', 'aniseed', 'black pepper', 'jasmine', 'fenugreek', 'flax', 'cumin', 'sesame', 'cassia', 'sandwich masala', 'caraway', 'garden cress', 'ivy gourd', 'pumpkin seed', 'marjoram', 'grape', 'lotus', 'chickpea', 'fennel', 'tulsi', 'date', 'beet', 'lovage', 'cashew', 'oak'}\n"
     ]
    }
   ],
   "source": [
    "# Spice in the spicerecipe_data excel but not appeared in both Tarla and Sanjeev\n",
    "spice_missed = set(spice_recipes) - set(spice_recipes_sanjeev).union(set(spice_recipes_tarla))\n",
    "print ('Spice recipes missed from both Tarla and Sanjeev: \\n', spice_missed )"
   ]
  },
  {
   "cell_type": "markdown",
   "metadata": {},
   "source": [
    "## Cuisine Recipe : Spice hnd (Sanjeev) ##\n",
    "### cuisine_spicehnd_dict_sanj ###"
   ]
  },
  {
   "cell_type": "code",
   "execution_count": 13,
   "metadata": {},
   "outputs": [],
   "source": [
    "# Sanjeev:\n",
    "cuisine_spicehnd_dict_sanj = {}\n",
    "for cuisine in cuisine_dict_s.keys():\n",
    "    spice_list = []\n",
    "    for ingre in cuisine_dict_s[cuisine]:\n",
    "        spice_list.extend(spice_dict[ingre])\n",
    "    if(spice_list != []):\n",
    "        cuisine_spicehnd_dict_sanj.update({cuisine : spice_list})"
   ]
  },
  {
   "cell_type": "markdown",
   "metadata": {},
   "source": [
    "## Cuisine Recipe : Spice hnd (Tarla) ##\n",
    "### cuisine_spicehnd_dict_tarla ###"
   ]
  },
  {
   "cell_type": "code",
   "execution_count": 14,
   "metadata": {},
   "outputs": [],
   "source": [
    "# CUISINE RECIPES : SPICEHERB_HND (Skip Spice Recipe layer)\n",
    "\n",
    "# Tarla:\n",
    "cuisine_spicehnd_dict_tarla = {}\n",
    "for cuisine in cuisine_dict.keys():\n",
    "    spice_list = []\n",
    "    for ingre in cuisine_dict[cuisine]:\n",
    "        spice_list.extend(spice_dict[ingre])\n",
    "    if(spice_list != []):\n",
    "        cuisine_spicehnd_dict_tarla.update({cuisine : spice_list})"
   ]
  },
  {
   "cell_type": "markdown",
   "metadata": {},
   "source": [
    "## Cuisine Recipe : Spice hnd (Tarla + Sanjeev) ##\n",
    "### cuisine_spice_dict --> 'cuisine_spice_dict.json'"
   ]
  },
  {
   "cell_type": "code",
   "execution_count": 15,
   "metadata": {},
   "outputs": [
    {
     "data": {
      "text/plain": [
       "'\\n# Tarla + Sanjeev\\n# CUISINE RECIPES : SPICEHERB_HND (Skip Spice Recipe layer)\\n\\n# Append Sanjeev CUISINE RECIPE : SPICE RECIPE dict to Tarla\\'s\\ncuisine_dict_all = cuisine_dict.copy()  # Tarla\\'s \\ncuisine_dict_all.update(cuisine_dict_s) \\n\\n# CUISINE RECIPES ： SPICEHERB_HND (cuisine_spice_dict)\\ncuisine_spice_dict = {}\\nfor cuisine in cuisine_dict_all.keys():\\n    spice_list = []\\n    for ingre in cuisine_dict_all[cuisine]:\\n        spice_list.extend(spice_dict[ingre])\\n    if(spice_list != []):\\n        cuisine_spice_dict.update({cuisine : spice_list})\\n\\ndict_file = \"cuisinerecipe2spicehnd_all.json\"\\nj = json.dumps(cuisine_spice_dict,indent = 4)\\nwith open(dict_file, \\'w\\') as w_file:\\n    w_file.write(j)\\n\\nprint(\\'Spice_hnd from recipe data (Sanjeev + Tarla): \\n\\', set(list(chain.from_iterable(cuisine_spice_dict.values()))))\\n'"
      ]
     },
     "execution_count": 15,
     "metadata": {},
     "output_type": "execute_result"
    }
   ],
   "source": [
    "'''\n",
    "# Tarla + Sanjeev\n",
    "# CUISINE RECIPES : SPICEHERB_HND (Skip Spice Recipe layer)\n",
    "\n",
    "# Append Sanjeev CUISINE RECIPE : SPICE RECIPE dict to Tarla's\n",
    "cuisine_dict_all = cuisine_dict.copy()  # Tarla's \n",
    "cuisine_dict_all.update(cuisine_dict_s) \n",
    "\n",
    "# CUISINE RECIPES ： SPICEHERB_HND (cuisine_spice_dict)\n",
    "cuisine_spice_dict = {}\n",
    "for cuisine in cuisine_dict_all.keys():\n",
    "    spice_list = []\n",
    "    for ingre in cuisine_dict_all[cuisine]:\n",
    "        spice_list.extend(spice_dict[ingre])\n",
    "    if(spice_list != []):\n",
    "        cuisine_spice_dict.update({cuisine : spice_list})\n",
    "\n",
    "dict_file = \"cuisinerecipe2spicehnd_all.json\"\n",
    "j = json.dumps(cuisine_spice_dict,indent = 4)\n",
    "with open(dict_file, 'w') as w_file:\n",
    "    w_file.write(j)\n",
    "\n",
    "print('Spice_hnd from recipe data (Sanjeev + Tarla): \\n', set(list(chain.from_iterable(cuisine_spice_dict.values()))))\n",
    "'''\n"
   ]
  },
  {
   "cell_type": "markdown",
   "metadata": {},
   "source": [
    "### NOTE ###\n",
    "1. need to find cuisine recipes/ spice recipes that contain more spices in handbook, currently only 46 hnd spice/herb are used\n",
    "3. no duplicate recipe between Sanjeev and Tarla by comparing string but need to confirm further"
   ]
  },
  {
   "cell_type": "markdown",
   "metadata": {},
   "source": [
    "### cuisine region : cuisine region tags mapping (Tarla) ###\n",
    "#### 'cuisine_tag_tarla.txt' --> cuisinetag_map_tarla -->  'cuisinetag_map_tarla.json' ####"
   ]
  },
  {
   "cell_type": "code",
   "execution_count": 16,
   "metadata": {
    "scrolled": false
   },
   "outputs": [
    {
     "data": {
      "text/plain": [
       "\"\\n# Tarla\\n\\n# CUISINE REGION : CUISINE TAGS\\n# cuisine category is modified to be the same in cuisine-state excel sheet\\n\\nimport re \\nfrom string import digits \\nimport json\\n\\nread_file = 'cuisine_tag_tarla.txt'\\nwrite_file = 'cuisinetag_map_tarla.json'\\nwith open(read_file) as r_f:\\n    content = r_f.readlines()\\n    \\ncuisinetag_map_tarla = {}\\ntag_list = []\\nfor line in content:\\n    if line[0].isdigit():\\n        # update dict with collected category: tag list mapping before move on to the next category\\n        if tag_list != []:\\n            cuisinetag_map_tarla.update({category: tag_list})\\n        # the next category and new tag list \\n        category = re.sub('\\\\(.*\\\\)','', line).lstrip(digits).lstrip().rstrip()\\n        if category != 'South Indian':\\n            # to match the cuisine type in cuisineregion_state excel sheet\\n            category = category.split()[0]\\n        tag_list = []\\n    else:\\n        tag = re.sub('\\\\(.*\\\\)','',line).lstrip().rstrip()\\n        tag_list.append(tag)\\ncuisinetag_map_tarla.update({category: tag_list})\\n\\nprint(cuisinetag_map_tarla,'\\n\\n # of cuisinetags: ',len(cuisinetag_map_tarla.keys()))\\n\\nregiontags_tarla = list(chain.from_iterable(cuisinetag_map_tarla.values()))\\n\\ndict2json(cuisinetag_map_tarla, write_file)\\n\\n\""
      ]
     },
     "execution_count": 16,
     "metadata": {},
     "output_type": "execute_result"
    }
   ],
   "source": [
    "'''\n",
    "# Tarla\n",
    "\n",
    "# CUISINE REGION : CUISINE TAGS\n",
    "# cuisine category is modified to be the same in cuisine-state excel sheet\n",
    "\n",
    "import re \n",
    "from string import digits \n",
    "import json\n",
    "\n",
    "read_file = 'cuisine_tag_tarla.txt'\n",
    "write_file = 'cuisinetag_map_tarla.json'\n",
    "with open(read_file) as r_f:\n",
    "    content = r_f.readlines()\n",
    "    \n",
    "cuisinetag_map_tarla = {}\n",
    "tag_list = []\n",
    "for line in content:\n",
    "    if line[0].isdigit():\n",
    "        # update dict with collected category: tag list mapping before move on to the next category\n",
    "        if tag_list != []:\n",
    "            cuisinetag_map_tarla.update({category: tag_list})\n",
    "        # the next category and new tag list \n",
    "        category = re.sub('\\(.*\\)','', line).lstrip(digits).lstrip().rstrip()\n",
    "        if category != 'South Indian':\n",
    "            # to match the cuisine type in cuisineregion_state excel sheet\n",
    "            category = category.split()[0]\n",
    "        tag_list = []\n",
    "    else:\n",
    "        tag = re.sub('\\(.*\\)','',line).lstrip().rstrip()\n",
    "        tag_list.append(tag)\n",
    "cuisinetag_map_tarla.update({category: tag_list})\n",
    "\n",
    "print(cuisinetag_map_tarla,'\\n\\n # of cuisinetags: ',len(cuisinetag_map_tarla.keys()))\n",
    "\n",
    "regiontags_tarla = list(chain.from_iterable(cuisinetag_map_tarla.values()))\n",
    "\n",
    "dict2json(cuisinetag_map_tarla, write_file)\n",
    "\n",
    "'''\n"
   ]
  },
  {
   "cell_type": "markdown",
   "metadata": {},
   "source": [
    "## Cuisine Region : State(s) ##\n",
    "### 'cuisine_state.xlsx' --> region_state_dict --> 'cuisineregion_state_dict.json' ###"
   ]
  },
  {
   "cell_type": "code",
   "execution_count": 17,
   "metadata": {},
   "outputs": [
    {
     "data": {
      "text/plain": [
       "\"\\n# CUISINE REGION : STATE \\n# read cuisineregion_state excel sheet into CUISINE REGION : STATE mapping dict (exclude the nan one)\\nimport pandas as pd\\nfrom math import isnan\\ndf = pd.read_excel('cuisine_state.xlsx', sheetname = 'Sheet1')\\ndf = df.iloc[:,0:2].fillna('NA')\\n\\ncuisine_region = [c.rstrip().lstrip() for c in list(df['Cuisine Region'])]\\nstate_gbd = [c.rstrip().lstrip() for c in list(df['State '])]\\nregion_state_dict = dict(zip(cuisine_region, state_gbd))\\n\\ndict2json(region_state_dict, 'cuisineregion_state_dict.json')\\nprint('# of Cuisine regions: ', len(set(region_state_dict.keys())))\\n\\nprint('\\n', region_state_dict)\\n\\n#15 states\\n#16 regions\\n\""
      ]
     },
     "execution_count": 17,
     "metadata": {},
     "output_type": "execute_result"
    }
   ],
   "source": [
    "'''\n",
    "# CUISINE REGION : STATE \n",
    "# read cuisineregion_state excel sheet into CUISINE REGION : STATE mapping dict (exclude the nan one)\n",
    "import pandas as pd\n",
    "from math import isnan\n",
    "df = pd.read_excel('cuisine_state.xlsx', sheetname = 'Sheet1')\n",
    "df = df.iloc[:,0:2].fillna('NA')\n",
    "\n",
    "cuisine_region = [c.rstrip().lstrip() for c in list(df['Cuisine Region'])]\n",
    "state_gbd = [c.rstrip().lstrip() for c in list(df['State '])]\n",
    "region_state_dict = dict(zip(cuisine_region, state_gbd))\n",
    "\n",
    "dict2json(region_state_dict, 'cuisineregion_state_dict.json')\n",
    "print('# of Cuisine regions: ', len(set(region_state_dict.keys())))\n",
    "\n",
    "print('\\n', region_state_dict)\n",
    "\n",
    "#15 states\n",
    "#16 regions\n",
    "'''\n"
   ]
  },
  {
   "cell_type": "markdown",
   "metadata": {},
   "source": [
    "## Cuisine Recipe - tags (Tarla) ##\n",
    "### cuisine_tag_dict_tarla --> 'cuisinetag_dict_tarla.json'"
   ]
  },
  {
   "cell_type": "code",
   "execution_count": 18,
   "metadata": {},
   "outputs": [
    {
     "data": {
      "text/plain": [
       "\"\\n# Tarla CUISINE RECIPE - TAGS \\n\\ncuisine_tag_dict_tarla = {}\\nfor i in range(len(recipe_tarla)):\\n    tag = recipe_tarla[i]['cuisine']\\n    if tag != []:\\n        cuisine_tag_dict_tarla.update({recipe_tarla[i]['title']['text'] : tag})\\n        \\ndict2json(cuisine_tag_dict_tarla, 'cuisine_tag_dict_tarla.json')\\n\""
      ]
     },
     "execution_count": 18,
     "metadata": {},
     "output_type": "execute_result"
    }
   ],
   "source": [
    "'''\n",
    "# Tarla CUISINE RECIPE - TAGS \n",
    "\n",
    "cuisine_tag_dict_tarla = {}\n",
    "for i in range(len(recipe_tarla)):\n",
    "    tag = recipe_tarla[i]['cuisine']\n",
    "    if tag != []:\n",
    "        cuisine_tag_dict_tarla.update({recipe_tarla[i]['title']['text'] : tag})\n",
    "        \n",
    "dict2json(cuisine_tag_dict_tarla, 'cuisine_tag_dict_tarla.json')\n",
    "'''\n"
   ]
  },
  {
   "cell_type": "markdown",
   "metadata": {},
   "source": [
    "### cuisines - region tags (Tarla) ###\n",
    "'cuisine_regiontag_dict_tarla.json'\n",
    "### cuisines - cuisine region (Tarla) ### \n",
    "based on cuisine region - regiontag mapping"
   ]
  },
  {
   "cell_type": "code",
   "execution_count": 19,
   "metadata": {},
   "outputs": [
    {
     "data": {
      "text/plain": [
       "\"\\ncuisine_regiontag_dict_tarla = {}\\nfor cuisine, tags in cuisine_tag_dict_tarla.items():\\n    regiontag_list = []\\n    for t in tags:\\n        if t in regiontags_tarla:\\n            regiontag_list.append(t)\\n    if regiontag_list:\\n        cuisine_regiontag_dict_tarla.update({cuisine: regiontag_list})\\ndict2json(cuisine_regiontag_dict_tarla, 'cuisine_regiontag_dict_tarla.json')\\n\\ncuisinerecipe2region_tarla = {}\\nfor cuisine, regiontags in cuisine_regiontag_dict_tarla.items():\\n    region_list = []\\n    for regiontag in regiontags:\\n        for region in cuisinetag_map_tarla.keys():\\n            if regiontag in cuisinetag_map_tarla[region]: \\n                region_list.append(region)\\n    # remember to drop the duplicate regions (there may be multiple region tags point to same region)\\n    cuisinerecipe2region_tarla.update({cuisine : list(set(region_list))}) \\ndict2json(cuisinerecipe2region_tarla, 'cuisinerecipe2region_tarla.json')\\n\\n\""
      ]
     },
     "execution_count": 19,
     "metadata": {},
     "output_type": "execute_result"
    }
   ],
   "source": [
    "'''\n",
    "cuisine_regiontag_dict_tarla = {}\n",
    "for cuisine, tags in cuisine_tag_dict_tarla.items():\n",
    "    regiontag_list = []\n",
    "    for t in tags:\n",
    "        if t in regiontags_tarla:\n",
    "            regiontag_list.append(t)\n",
    "    if regiontag_list:\n",
    "        cuisine_regiontag_dict_tarla.update({cuisine: regiontag_list})\n",
    "dict2json(cuisine_regiontag_dict_tarla, 'cuisine_regiontag_dict_tarla.json')\n",
    "\n",
    "cuisinerecipe2region_tarla = {}\n",
    "for cuisine, regiontags in cuisine_regiontag_dict_tarla.items():\n",
    "    region_list = []\n",
    "    for regiontag in regiontags:\n",
    "        for region in cuisinetag_map_tarla.keys():\n",
    "            if regiontag in cuisinetag_map_tarla[region]: \n",
    "                region_list.append(region)\n",
    "    # remember to drop the duplicate regions (there may be multiple region tags point to same region)\n",
    "    cuisinerecipe2region_tarla.update({cuisine : list(set(region_list))}) \n",
    "dict2json(cuisinerecipe2region_tarla, 'cuisinerecipe2region_tarla.json')\n",
    "\n",
    "'''\n"
   ]
  },
  {
   "cell_type": "markdown",
   "metadata": {},
   "source": [
    "## State : Cuisine Recipe (Sanjeev, Tarla, Combined) ##\n",
    "### region2cuisinerecipe; region2recipecount; state2cuisinerecipe_sanj; state2recipecount_sanj"
   ]
  },
  {
   "cell_type": "code",
   "execution_count": 20,
   "metadata": {
    "scrolled": false
   },
   "outputs": [
    {
     "data": {
      "text/plain": [
       "\"\\n# SANJEEV ==========================================\\n \\nall_regions = region_state_dict.keys()\\nprint('all regions:', all_regions)\\nall_states = []\\nfor value in region_state_dict.values():\\n    if value != 'NA':\\n        all_states.extend(value.split(', '))\\nprint('all states:', all_states)\\n\\n# Region (aka cuisine style): CuisineRecipe (Sanjeev)\\nregion2cuisinerecipe_sanj = {key: [] for key in all_regions} # region2cuisinerecipe\\n\\ncount_cuisine_sanj = 0\\nfor i in range(len(recipe_sanj)):\\n    tag = recipe_sanj[i]['tags']['cuisine']\\n    if tag != []:\\n        tag = tag[0].lstrip().rstrip()\\n        if tag in all_regions:\\n            count_cuisine_sanj += 1\\n            region2cuisinerecipe_sanj[tag].append(recipe_sanj[i]['title']['text'])\\n\\nprint('# of cuisine recipes from indian regions in Sanjeev: ', count_cuisine_sanj)\\nprint('Regions mentioned in Sanjeev:', region2cuisinerecipe_sanj.keys())\\n\\nregion2recipecount_sanj = dict2countdict(region2cuisinerecipe_sanj, all_regions)  # find regional recipe count for sanj\\ndict2json(region2cuisinerecipe_sanj, 'region2cuisinerecipe_sanj.json')\\ndict2json(region2recipecount_sanj, 'region2recipecount_sanj.json')\\n\\n# State (from GBD) : CuisineRecipe (Sanjeev)\\nstate2cuisinerecipe_sanj = {}\\nfor region in region_state_dict.keys():\\n    if region_state_dict[region] != 'NA':\\n        states = region_state_dict[region].split(',')\\n        for s in states:\\n            state = s.lstrip().rstrip()\\n            if state not in state2cuisinerecipe_sanj.keys():\\n                # check if state key already in the dict and has cuisine list\\n                # because one state may be mapped to multiple cuisine region, e.g Andhra Pradesh \\n                state2cuisinerecipe_sanj.update({state: region2cuisinerecipe_sanj[region]})\\n            else:\\n                cuisine_list = state2cuisinerecipe_sanj[state]\\n                cuisine_list.extend(region2cuisinerecipe_sanj[region])\\n                state2cuisinerecipe_sanj.update({state: cuisine_list})\\n\\nstate2recipecount_sanj = dict2countdict(state2cuisinerecipe_sanj, all_states)\\ndict2json(state2cuisinerecipe_sanj, 'state2cuisinerecipe_sanj.json')\\ndict2json(state2recipecount_sanj, 'state2recipecount_sanj.json')\\n\\n\\n# TARLA =================================================\\n\\n# Region (aka cuisine style): CuisineRecipe (Tarla)\\nregion2cuisinerecipe_tarla = reverse_dict(cuisinerecipe2region_tarla) # region2cuisinerecipe\\nregion2recipecount_tarla = dict2countdict(region2cuisinerecipe_tarla, all_regions) # find regional recipe count for tarla\\ndict2json(region2cuisinerecipe_tarla, 'region2cuisinerecipe_tarla.json')\\ndict2json(region2recipecount_tarla, 'region2recipecount_tarla.json')\\nprint('\\n# of cuisine recipes from indian regions in Tarla:', len(cuisinerecipe2region_tarla.keys()))\\nprint('Regions mentioned in Tarla: ', region2cuisinerecipe_tarla.keys())\\n\\n# State (from GBD): CuisineRecipe (Tarla)\\nstate2cuisinerecipe_tarla = {}\\nfor region in region2cuisinerecipe_tarla.keys():\\n    if region_state_dict[region] != 'NA':\\n        states = region_state_dict[region].split(',')\\n        for s in states:\\n            state = s.lstrip().rstrip()\\n            if state not in state2cuisinerecipe_tarla.keys(): \\n                # check if state key already in the dict and has cuisine list\\n                # because one state may be mapped to multiple cuisine region, e.g Andhra Pradesh \\n                state2cuisinerecipe_tarla.update({state : region2cuisinerecipe_tarla[region]})\\n            else:\\n                cuisine_list = state2cuisinerecipe_tarla[state]\\n                cuisine_list.extend(region2cuisinerecipe_tarla[region])\\n                state2cuisinerecipe_tarla.update({state: cuisine_list })\\n\\nstate2recipecount_tarla = dict2countdict(state2cuisinerecipe_tarla, all_states)\\ndict2json(state2cuisinerecipe_tarla, 'state2cuisinerecipe_tarla.json')\\ndict2json(state2recipecount_tarla, 'state2recipecount_tarla.json')\\n\\nstates_sanj = list(state2cuisinerecipe_sanj.keys())\\nstates_tarla = list(state2cuisinerecipe_tarla.keys())\\nstates_sanj.sort()\\nstates_tarla.sort()\\n\\nprint('\\nStates mentioned in sanj:', states_sanj)\\nprint('\\nstates mentioned in tarla:', states_tarla)\\n\\n# Combined =================================================\\n\\n# Region (aka cuisine style) : CuisineRecipe \\n\\nregion2cuisinerecipe_combined = {}\\nregion2recipecount_combined = {}\\nfor region in all_regions:\\n    count_sanj = 0\\n    count_tarla = 0\\n    if region in region2recipecount_sanj.keys():\\n        count_sanj = region2recipecount_sanj[region]\\n    if region in region2recipecount_tarla.keys():\\n        count_tarla = region2recipecount_tarla[region]\\n    if count_sanj > count_tarla:\\n        region2cuisinerecipe_combined.update({region : region2cuisinerecipe_sanj[region]})\\n        region2recipecount_combined.update({region : region2recipecount_sanj[region]})     \\n    else:\\n        region2cuisinerecipe_combined.update({region : region2cuisinerecipe_tarla[region]})\\n        region2recipecount_combined.update({region : region2recipecount_tarla[region]}) \\ndict2json(region2cuisinerecipe_combined, 'region2cuisinerecipe_combined.json')\\ndict2json(region2recipecount_combined, 'region2recipecount_combined.json')\\n\\n# State (from GBD) : CuisineRecipe\\n\\nstate2cuisinerecipe_combined = {}\\nfor state in all_states:\\n    count_sanj = 0\\n    count_tarla = 0\\n    if state in state2recipecount_sanj.keys():\\n        count_sanj = state2recipecount_sanj[state]\\n    if state in state2recipecount_tarla.keys():\\n        count_tarla = state2recipecount_tarla[state]\\n    if count_sanj > count_tarla:\\n        state2cuisinerecipe_combined.update({state : state2cuisinerecipe_sanj[state]})\\n    else:\\n        state2cuisinerecipe_combined.update({state : state2cuisinerecipe_tarla[state]})\\ndict2json(state2cuisinerecipe_combined, 'state2cuisinerecipe_combined.json')\\n\\n\\npd.DataFrame.from_dict(region2recipecount_sanj, orient='index').fillna(0).to_excel('region2recipecount_sanj.xlsx')\\npd.DataFrame.from_dict(region2recipecount_tarla, orient='index').fillna(0).to_excel('region2recipecount_tarla.xlsx')\\npd.DataFrame.from_dict(state2recipecount_sanj, orient='index').fillna(0).to_excel('state2recipecount_sanj.xlsx')\\npd.DataFrame.from_dict(state2recipecount_tarla, orient='index').fillna(0).to_excel('state2recipecount_tarla.xlsx')\\n\""
      ]
     },
     "execution_count": 20,
     "metadata": {},
     "output_type": "execute_result"
    }
   ],
   "source": [
    "'''\n",
    "# SANJEEV ==========================================\n",
    " \n",
    "all_regions = region_state_dict.keys()\n",
    "print('all regions:', all_regions)\n",
    "all_states = []\n",
    "for value in region_state_dict.values():\n",
    "    if value != 'NA':\n",
    "        all_states.extend(value.split(', '))\n",
    "print('all states:', all_states)\n",
    "\n",
    "# Region (aka cuisine style): CuisineRecipe (Sanjeev)\n",
    "region2cuisinerecipe_sanj = {key: [] for key in all_regions} # region2cuisinerecipe\n",
    "\n",
    "count_cuisine_sanj = 0\n",
    "for i in range(len(recipe_sanj)):\n",
    "    tag = recipe_sanj[i]['tags']['cuisine']\n",
    "    if tag != []:\n",
    "        tag = tag[0].lstrip().rstrip()\n",
    "        if tag in all_regions:\n",
    "            count_cuisine_sanj += 1\n",
    "            region2cuisinerecipe_sanj[tag].append(recipe_sanj[i]['title']['text'])\n",
    "\n",
    "print('# of cuisine recipes from indian regions in Sanjeev: ', count_cuisine_sanj)\n",
    "print('Regions mentioned in Sanjeev:', region2cuisinerecipe_sanj.keys())\n",
    "\n",
    "region2recipecount_sanj = dict2countdict(region2cuisinerecipe_sanj, all_regions)  # find regional recipe count for sanj\n",
    "dict2json(region2cuisinerecipe_sanj, 'region2cuisinerecipe_sanj.json')\n",
    "dict2json(region2recipecount_sanj, 'region2recipecount_sanj.json')\n",
    "\n",
    "# State (from GBD) : CuisineRecipe (Sanjeev)\n",
    "state2cuisinerecipe_sanj = {}\n",
    "for region in region_state_dict.keys():\n",
    "    if region_state_dict[region] != 'NA':\n",
    "        states = region_state_dict[region].split(',')\n",
    "        for s in states:\n",
    "            state = s.lstrip().rstrip()\n",
    "            if state not in state2cuisinerecipe_sanj.keys():\n",
    "                # check if state key already in the dict and has cuisine list\n",
    "                # because one state may be mapped to multiple cuisine region, e.g Andhra Pradesh \n",
    "                state2cuisinerecipe_sanj.update({state: region2cuisinerecipe_sanj[region]})\n",
    "            else:\n",
    "                cuisine_list = state2cuisinerecipe_sanj[state]\n",
    "                cuisine_list.extend(region2cuisinerecipe_sanj[region])\n",
    "                state2cuisinerecipe_sanj.update({state: cuisine_list})\n",
    "\n",
    "state2recipecount_sanj = dict2countdict(state2cuisinerecipe_sanj, all_states)\n",
    "dict2json(state2cuisinerecipe_sanj, 'state2cuisinerecipe_sanj.json')\n",
    "dict2json(state2recipecount_sanj, 'state2recipecount_sanj.json')\n",
    "\n",
    "\n",
    "# TARLA =================================================\n",
    "\n",
    "# Region (aka cuisine style): CuisineRecipe (Tarla)\n",
    "region2cuisinerecipe_tarla = reverse_dict(cuisinerecipe2region_tarla) # region2cuisinerecipe\n",
    "region2recipecount_tarla = dict2countdict(region2cuisinerecipe_tarla, all_regions) # find regional recipe count for tarla\n",
    "dict2json(region2cuisinerecipe_tarla, 'region2cuisinerecipe_tarla.json')\n",
    "dict2json(region2recipecount_tarla, 'region2recipecount_tarla.json')\n",
    "print('\\n# of cuisine recipes from indian regions in Tarla:', len(cuisinerecipe2region_tarla.keys()))\n",
    "print('Regions mentioned in Tarla: ', region2cuisinerecipe_tarla.keys())\n",
    "\n",
    "# State (from GBD): CuisineRecipe (Tarla)\n",
    "state2cuisinerecipe_tarla = {}\n",
    "for region in region2cuisinerecipe_tarla.keys():\n",
    "    if region_state_dict[region] != 'NA':\n",
    "        states = region_state_dict[region].split(',')\n",
    "        for s in states:\n",
    "            state = s.lstrip().rstrip()\n",
    "            if state not in state2cuisinerecipe_tarla.keys(): \n",
    "                # check if state key already in the dict and has cuisine list\n",
    "                # because one state may be mapped to multiple cuisine region, e.g Andhra Pradesh \n",
    "                state2cuisinerecipe_tarla.update({state : region2cuisinerecipe_tarla[region]})\n",
    "            else:\n",
    "                cuisine_list = state2cuisinerecipe_tarla[state]\n",
    "                cuisine_list.extend(region2cuisinerecipe_tarla[region])\n",
    "                state2cuisinerecipe_tarla.update({state: cuisine_list })\n",
    "\n",
    "state2recipecount_tarla = dict2countdict(state2cuisinerecipe_tarla, all_states)\n",
    "dict2json(state2cuisinerecipe_tarla, 'state2cuisinerecipe_tarla.json')\n",
    "dict2json(state2recipecount_tarla, 'state2recipecount_tarla.json')\n",
    "\n",
    "states_sanj = list(state2cuisinerecipe_sanj.keys())\n",
    "states_tarla = list(state2cuisinerecipe_tarla.keys())\n",
    "states_sanj.sort()\n",
    "states_tarla.sort()\n",
    "\n",
    "print('\\nStates mentioned in sanj:', states_sanj)\n",
    "print('\\nstates mentioned in tarla:', states_tarla)\n",
    "\n",
    "# Combined =================================================\n",
    "\n",
    "# Region (aka cuisine style) : CuisineRecipe \n",
    "\n",
    "region2cuisinerecipe_combined = {}\n",
    "region2recipecount_combined = {}\n",
    "for region in all_regions:\n",
    "    count_sanj = 0\n",
    "    count_tarla = 0\n",
    "    if region in region2recipecount_sanj.keys():\n",
    "        count_sanj = region2recipecount_sanj[region]\n",
    "    if region in region2recipecount_tarla.keys():\n",
    "        count_tarla = region2recipecount_tarla[region]\n",
    "    if count_sanj > count_tarla:\n",
    "        region2cuisinerecipe_combined.update({region : region2cuisinerecipe_sanj[region]})\n",
    "        region2recipecount_combined.update({region : region2recipecount_sanj[region]})     \n",
    "    else:\n",
    "        region2cuisinerecipe_combined.update({region : region2cuisinerecipe_tarla[region]})\n",
    "        region2recipecount_combined.update({region : region2recipecount_tarla[region]}) \n",
    "dict2json(region2cuisinerecipe_combined, 'region2cuisinerecipe_combined.json')\n",
    "dict2json(region2recipecount_combined, 'region2recipecount_combined.json')\n",
    "\n",
    "# State (from GBD) : CuisineRecipe\n",
    "\n",
    "state2cuisinerecipe_combined = {}\n",
    "for state in all_states:\n",
    "    count_sanj = 0\n",
    "    count_tarla = 0\n",
    "    if state in state2recipecount_sanj.keys():\n",
    "        count_sanj = state2recipecount_sanj[state]\n",
    "    if state in state2recipecount_tarla.keys():\n",
    "        count_tarla = state2recipecount_tarla[state]\n",
    "    if count_sanj > count_tarla:\n",
    "        state2cuisinerecipe_combined.update({state : state2cuisinerecipe_sanj[state]})\n",
    "    else:\n",
    "        state2cuisinerecipe_combined.update({state : state2cuisinerecipe_tarla[state]})\n",
    "dict2json(state2cuisinerecipe_combined, 'state2cuisinerecipe_combined.json')\n",
    "\n",
    "\n",
    "pd.DataFrame.from_dict(region2recipecount_sanj, orient='index').fillna(0).to_excel('region2recipecount_sanj.xlsx')\n",
    "pd.DataFrame.from_dict(region2recipecount_tarla, orient='index').fillna(0).to_excel('region2recipecount_tarla.xlsx')\n",
    "pd.DataFrame.from_dict(state2recipecount_sanj, orient='index').fillna(0).to_excel('state2recipecount_sanj.xlsx')\n",
    "pd.DataFrame.from_dict(state2recipecount_tarla, orient='index').fillna(0).to_excel('state2recipecount_tarla.xlsx')\n",
    "'''\n"
   ]
  },
  {
   "cell_type": "markdown",
   "metadata": {},
   "source": [
    "## state : spice_hnd (Sanjeev) ##\n",
    "### state_spicehnd_dict_tarla --> state - spicehnd count dict  --> 'state_spicehnd_countdict_sanj.xlsx' ###\n",
    "\n",
    "## state: spice_hnd (Tarla) ##\n",
    "### state_spicehnd_dict_tarla--> state - spicehnd count dict --> 'state_spicehnd_countdict_tarla.xlsx'\n"
   ]
  },
  {
   "cell_type": "code",
   "execution_count": 21,
   "metadata": {
    "scrolled": false
   },
   "outputs": [
    {
     "data": {
      "text/plain": [
       "\"\\nfrom collections import Counter\\n\\n# Sanjeev\\nstate_spicehnd_dict_sanj = {}\\nfor state, cuisine_list in state2cuisinerecipe_sanj.items():\\n    spicehnd_list = []\\n    for cuisine in cuisine_list:\\n        if cuisine in cuisine_spicehnd_dict_sanj.keys():  \\n            # Cuisine recipe might appear in 'state_cuisine' but not in 'cuisine_spicehnd' since some cuisine recipe don't contain spicehnd\\n            spicehnd_list.extend(cuisine_spicehnd_dict_sanj[cuisine]) \\n    count_dict = Counter(spicehnd_list)\\n    state_spicehnd_dict_sanj.update({state : count_dict})\\n\\n# Tarla \\nstate_spicehnd_dict_tarla = {}\\nfor state, cuisine_list in state2cuisinerecipe_tarla.items():\\n    spicehnd_list = []\\n    for cuisine in cuisine_list:\\n        if cuisine in cuisine_spicehnd_dict_tarla.keys():  \\n            # Cuisine recipe might appear in 'state_cuisine' but not in 'cuisine_spicehnd' since some cuisine recipe don't contain spicehnd\\n            spicehnd_list.extend(cuisine_spicehnd_dict_tarla[cuisine]) \\n    count_dict = Counter(spicehnd_list)\\n    state_spicehnd_dict_tarla.update({state : count_dict})\\n\\n\\n# Combined:\\nstate_spicehnd_all = state_spicehnd_dict_sanj.copy()\\nfor state, counts in state_spicehnd_dict_tarla.items():\\n    if state in state_spicehnd_dict_sanj.keys():\\n        state_spicehnd_all.update({state : state_spicehnd_dict_sanj[state] + state_spicehnd_dict_tarla[state]})\\n    else:\\n        state_spicehnd_all.update({state: state_spicehnd_dict_tarla[state]})\\n\\n\\n# Sanj\\nstate_spicehnd_df_sanj = pd.DataFrame(state_spicehnd_dict_sanj).fillna(0)\\nstate_spicehnd_df_sanj.to_excel('state_spicehnd_countdict_sanj.xlsx')\\nprint('# Spice_hnd in Sanjeev: ', len(state_spicehnd_df_sanj.index))\\nprint('# States in Sanjeev: ', len(state_spicehnd_df_sanj.columns))\\n\\n# Tarla\\nstate_spicehnd_df_tarla = pd.DataFrame(state_spicehnd_dict_tarla).fillna(0)\\nstate_spicehnd_df_tarla.to_excel('state_spicehnd_countdict_tarla.xlsx')\\nprint('# Spice_hnd in Tarla: ', len(state_spicehnd_df_tarla.index))\\nprint('# States in Tarla: ', len(state_spicehnd_df_tarla.columns))\\n\\n\\n\\n\""
      ]
     },
     "execution_count": 21,
     "metadata": {},
     "output_type": "execute_result"
    }
   ],
   "source": [
    "'''\n",
    "from collections import Counter\n",
    "\n",
    "# Sanjeev\n",
    "state_spicehnd_dict_sanj = {}\n",
    "for state, cuisine_list in state2cuisinerecipe_sanj.items():\n",
    "    spicehnd_list = []\n",
    "    for cuisine in cuisine_list:\n",
    "        if cuisine in cuisine_spicehnd_dict_sanj.keys():  \n",
    "            # Cuisine recipe might appear in 'state_cuisine' but not in 'cuisine_spicehnd' since some cuisine recipe don't contain spicehnd\n",
    "            spicehnd_list.extend(cuisine_spicehnd_dict_sanj[cuisine]) \n",
    "    count_dict = Counter(spicehnd_list)\n",
    "    state_spicehnd_dict_sanj.update({state : count_dict})\n",
    "\n",
    "# Tarla \n",
    "state_spicehnd_dict_tarla = {}\n",
    "for state, cuisine_list in state2cuisinerecipe_tarla.items():\n",
    "    spicehnd_list = []\n",
    "    for cuisine in cuisine_list:\n",
    "        if cuisine in cuisine_spicehnd_dict_tarla.keys():  \n",
    "            # Cuisine recipe might appear in 'state_cuisine' but not in 'cuisine_spicehnd' since some cuisine recipe don't contain spicehnd\n",
    "            spicehnd_list.extend(cuisine_spicehnd_dict_tarla[cuisine]) \n",
    "    count_dict = Counter(spicehnd_list)\n",
    "    state_spicehnd_dict_tarla.update({state : count_dict})\n",
    "\n",
    "\n",
    "# Combined:\n",
    "state_spicehnd_all = state_spicehnd_dict_sanj.copy()\n",
    "for state, counts in state_spicehnd_dict_tarla.items():\n",
    "    if state in state_spicehnd_dict_sanj.keys():\n",
    "        state_spicehnd_all.update({state : state_spicehnd_dict_sanj[state] + state_spicehnd_dict_tarla[state]})\n",
    "    else:\n",
    "        state_spicehnd_all.update({state: state_spicehnd_dict_tarla[state]})\n",
    "\n",
    "\n",
    "# Sanj\n",
    "state_spicehnd_df_sanj = pd.DataFrame(state_spicehnd_dict_sanj).fillna(0)\n",
    "state_spicehnd_df_sanj.to_excel('state_spicehnd_countdict_sanj.xlsx')\n",
    "print('# Spice_hnd in Sanjeev: ', len(state_spicehnd_df_sanj.index))\n",
    "print('# States in Sanjeev: ', len(state_spicehnd_df_sanj.columns))\n",
    "\n",
    "# Tarla\n",
    "state_spicehnd_df_tarla = pd.DataFrame(state_spicehnd_dict_tarla).fillna(0)\n",
    "state_spicehnd_df_tarla.to_excel('state_spicehnd_countdict_tarla.xlsx')\n",
    "print('# Spice_hnd in Tarla: ', len(state_spicehnd_df_tarla.index))\n",
    "print('# States in Tarla: ', len(state_spicehnd_df_tarla.columns))\n",
    "\n",
    "\n",
    "\n",
    "'''\n"
   ]
  },
  {
   "cell_type": "markdown",
   "metadata": {},
   "source": [
    "## Spice_hnd : Indications ##\n",
    "### dict_data --> 'spiceherb_indication_dict.json'\n"
   ]
  },
  {
   "cell_type": "code",
   "execution_count": 22,
   "metadata": {},
   "outputs": [
    {
     "name": "stdout",
     "output_type": "stream",
     "text": [
      "# of spices:  1094 1094\n",
      "# of indications:  1843 1843\n"
     ]
    }
   ],
   "source": [
    "file_herb= 'indication_dict_herb_final.json'  # i donot know where these files are being generated\n",
    "file_spice = 'indication_dict_spices_final.json'  # i donot know where these files are being generated\n",
    "\n",
    "MODE = 3\n",
    "\n",
    "if MODE == 1: # herb\n",
    "    with open(file_herb) as dict_file:\n",
    "        dict_data = json.loads(dict_file.read())\n",
    "    dict_data['Fig herb'] = dict_data.pop('Fig')  # herb\n",
    "    dict_data['Poison  Ivy herb'] = dict_data.pop('Poison  Ivy')   #herb\n",
    "\n",
    "if MODE == 2: # spice\n",
    "    with open(file_spice) as dict_file:\n",
    "        dict_data = json.loads(dict_file.read())\n",
    "\n",
    "if MODE == 3: # combine\n",
    "    with open(file_spice) as dict_file: # read from spice\n",
    "        dict_spice = json.loads(dict_file.read())\n",
    "    dict_data = dict_spice.copy()\n",
    "    with open(file_herb) as dict_file: # read from herb\n",
    "        dict_herb = json.loads(dict_file.read())\n",
    "    dict_data1 = dict_herb.copy()\n",
    "    herbs = set(list(dict_herb.keys()))\n",
    "    spice = set(list(dict_data.keys()))\n",
    "    duplicates = []\n",
    "    for s in dict_spice.keys():\n",
    "        for h in dict_herb.keys():\n",
    "            if re.split('[^a-zA-Z]*', s) == re.split('[^a-zA-Z]*', h):\n",
    "                dict_data[s] = list(set(dict_herb[h]).union(set(dict_spice[s])))\n",
    "                dict_data1.pop(h)\n",
    "                duplicates.append(s)\n",
    "    dict_data.update(dict_data1)\n",
    "    dict_data['Fig herb'] = dict_data.pop('Fig')  # herb\n",
    "    dict_data['Poison Ivy herb'] = dict_data.pop('Poison Ivy')   #herb\n",
    "\n",
    "dict2json(dict_data, result_folder+ 'spiceherb_indication_dict.json')\n",
    "\n",
    "Bi_graph = nx.Graph()\n",
    "indications = set(list(chain.from_iterable(dict_data.values())))\n",
    "items = list(dict_data.keys())  # items\n",
    "Bi_graph.add_nodes_from(indications,bipartite = 1) # set 1: indications\n",
    "Bi_graph.add_nodes_from(items,bipartite = 0) # set 0: items\n",
    "for key in items:\n",
    "    for v in dict_data[key]:\n",
    "        Bi_graph.add_edges_from([(key,v)])\n",
    "\n",
    "top_nodes = {n for n, d in Bi_graph.nodes(data=True) if d['bipartite']==0}\n",
    "bottom_nodes = set(Bi_graph) - top_nodes   # indications\n",
    "\n",
    "top_projection = bipartite.weighted_projected_graph(Bi_graph, top_nodes) # spice/herbs items\n",
    "bot_projection = bipartite.weighted_projected_graph(Bi_graph, bottom_nodes) # indications\n",
    "\n",
    "print('# of spices: ',len(top_projection.nodes()), len(top_nodes))   # 1094\n",
    "print('# of indications: ',len(bot_projection.nodes()), len(bottom_nodes))  # 1597\n"
   ]
  },
  {
   "cell_type": "markdown",
   "metadata": {},
   "source": [
    "## state : indication count (combined) ##\n",
    "### state_indication_dict ###"
   ]
  },
  {
   "cell_type": "code",
   "execution_count": 23,
   "metadata": {},
   "outputs": [
    {
     "data": {
      "text/plain": [
       "\"\\nfrom collections import OrderedDict\\nstate_indication_dict = {}\\nindication_list = []\\ndict_data_lower =  {' '.join(k.lower().lstrip().rstrip().split()): v for k, v in dict_data.items()}\\nfor state, counts in state_spicehnd_all.items():\\n    indication_counter = Counter({})\\n    for spicehnd, count in counts.items():\\n        indications = dict_data_lower[spicehnd]\\n        indication_counter += Counter(dict((indication, count) for indication in indications))\\n    indication_list.extend(indication_counter.keys())\\n    indication_counter_sorted = OrderedDict(sorted(indication_counter.items(), key=lambda x: x[1], reverse = True))\\n    state_indication_dict.update({state:indication_counter_sorted})    \\nindication_set = set(indication_list)\\nprint('# of indications for recipe data:', len(indication_set))\\n\\nwrite_file = 'state_indicationcount_dict.json'\\ndict2json(state_indication_dict, write_file)\\n\""
      ]
     },
     "execution_count": 23,
     "metadata": {},
     "output_type": "execute_result"
    }
   ],
   "source": [
    "'''\n",
    "from collections import OrderedDict\n",
    "state_indication_dict = {}\n",
    "indication_list = []\n",
    "dict_data_lower =  {' '.join(k.lower().lstrip().rstrip().split()): v for k, v in dict_data.items()}\n",
    "for state, counts in state_spicehnd_all.items():\n",
    "    indication_counter = Counter({})\n",
    "    for spicehnd, count in counts.items():\n",
    "        indications = dict_data_lower[spicehnd]\n",
    "        indication_counter += Counter(dict((indication, count) for indication in indications))\n",
    "    indication_list.extend(indication_counter.keys())\n",
    "    indication_counter_sorted = OrderedDict(sorted(indication_counter.items(), key=lambda x: x[1], reverse = True))\n",
    "    state_indication_dict.update({state:indication_counter_sorted})    \n",
    "indication_set = set(indication_list)\n",
    "print('# of indications for recipe data:', len(indication_set))\n",
    "\n",
    "write_file = 'state_indicationcount_dict.json'\n",
    "dict2json(state_indication_dict, write_file)\n",
    "'''"
   ]
  },
  {
   "cell_type": "code",
   "execution_count": null,
   "metadata": {},
   "outputs": [],
   "source": []
  }
 ],
 "metadata": {
  "kernelspec": {
   "display_name": "Python 3",
   "language": "python",
   "name": "python3"
  },
  "language_info": {
   "codemirror_mode": {
    "name": "ipython",
    "version": 3
   },
   "file_extension": ".py",
   "mimetype": "text/x-python",
   "name": "python",
   "nbconvert_exporter": "python",
   "pygments_lexer": "ipython3",
   "version": "3.7.1"
  }
 },
 "nbformat": 4,
 "nbformat_minor": 2
}
