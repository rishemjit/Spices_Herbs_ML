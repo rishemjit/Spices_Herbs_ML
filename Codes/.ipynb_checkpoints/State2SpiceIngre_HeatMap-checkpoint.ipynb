{
 "cells": [
  {
   "cell_type": "markdown",
   "metadata": {},
   "source": [
    "# we are not using these codes any more"
   ]
  },
  {
   "cell_type": "code",
   "execution_count": 1,
   "metadata": {},
   "outputs": [],
   "source": [
    "# CORRECT\n",
    "import json\n",
    "import pandas as pd\n",
    "from collections import Counter\n",
    "from Graph_Helpers import *"
   ]
  },
  {
   "cell_type": "markdown",
   "metadata": {},
   "source": [
    "## State : Spice Ingredients Count ##\n",
    "#### Note: there are many cuisine recipes in both Tarla Dalal and Sanjeev Kapoor contain spice ingredients but not Indian cuisines ####"
   ]
  },
  {
   "cell_type": "code",
   "execution_count": 2,
   "metadata": {},
   "outputs": [
    {
     "ename": "FileNotFoundError",
     "evalue": "[Errno 2] No such file or directory: 'Derived_Data/StateIndicationNetwork/state2cuisinerecipe_sanj.json'",
     "output_type": "error",
     "traceback": [
      "\u001b[0;31m---------------------------------------------------------------------------\u001b[0m",
      "\u001b[0;31mFileNotFoundError\u001b[0m                         Traceback (most recent call last)",
      "\u001b[0;32m<ipython-input-2-612cf8c247c1>\u001b[0m in \u001b[0;36m<module>\u001b[0;34m\u001b[0m\n\u001b[1;32m      7\u001b[0m \u001b[0;34m\u001b[0m\u001b[0m\n\u001b[1;32m      8\u001b[0m \u001b[0;31m# Read cuisine: Recipe Dict\u001b[0m\u001b[0;34m\u001b[0m\u001b[0;34m\u001b[0m\u001b[0;34m\u001b[0m\u001b[0m\n\u001b[0;32m----> 9\u001b[0;31m \u001b[0mstate2cuisinerecipe_sanj\u001b[0m \u001b[0;34m=\u001b[0m \u001b[0mjson2dict\u001b[0m\u001b[0;34m(\u001b[0m\u001b[0;34m'Derived_Data/StateIndicationNetwork/state2cuisinerecipe_sanj.json'\u001b[0m\u001b[0;34m)\u001b[0m  \u001b[0;31m# generated in State-Indication_Networks_from_RecipeData.ipynb\u001b[0m\u001b[0;34m\u001b[0m\u001b[0;34m\u001b[0m\u001b[0m\n\u001b[0m\u001b[1;32m     10\u001b[0m \u001b[0mstate2cuisinerecipe_tarla\u001b[0m \u001b[0;34m=\u001b[0m \u001b[0mjson2dict\u001b[0m\u001b[0;34m(\u001b[0m\u001b[0;34m'Derived_Data/StateIndicationNetwork/state2cuisinerecipe_tarla.json'\u001b[0m\u001b[0;34m)\u001b[0m \u001b[0;31m# generated in State-Indication_Networks_from_RecipeData.ipynb\u001b[0m\u001b[0;34m\u001b[0m\u001b[0;34m\u001b[0m\u001b[0m\n\u001b[1;32m     11\u001b[0m \u001b[0;34m\u001b[0m\u001b[0m\n",
      "\u001b[0;32m~/Work/Cuisine-Spice-Disease-Network-Science/Network_Analysis/Graph_Helpers.py\u001b[0m in \u001b[0;36mjson2dict\u001b[0;34m(read_file)\u001b[0m\n\u001b[1;32m     12\u001b[0m \u001b[0;34m\u001b[0m\u001b[0m\n\u001b[1;32m     13\u001b[0m \u001b[0;32mdef\u001b[0m \u001b[0mjson2dict\u001b[0m\u001b[0;34m(\u001b[0m\u001b[0mread_file\u001b[0m\u001b[0;34m)\u001b[0m\u001b[0;34m:\u001b[0m\u001b[0;34m\u001b[0m\u001b[0;34m\u001b[0m\u001b[0m\n\u001b[0;32m---> 14\u001b[0;31m     \u001b[0;32mwith\u001b[0m \u001b[0mopen\u001b[0m\u001b[0;34m(\u001b[0m\u001b[0mread_file\u001b[0m\u001b[0;34m,\u001b[0m \u001b[0;34m'rb'\u001b[0m\u001b[0;34m)\u001b[0m \u001b[0;32mas\u001b[0m \u001b[0mjson_file\u001b[0m\u001b[0;34m:\u001b[0m\u001b[0;34m\u001b[0m\u001b[0;34m\u001b[0m\u001b[0m\n\u001b[0m\u001b[1;32m     15\u001b[0m         \u001b[0mdata\u001b[0m \u001b[0;34m=\u001b[0m \u001b[0mjson\u001b[0m\u001b[0;34m.\u001b[0m\u001b[0mload\u001b[0m\u001b[0;34m(\u001b[0m\u001b[0mjson_file\u001b[0m\u001b[0;34m)\u001b[0m\u001b[0;34m\u001b[0m\u001b[0;34m\u001b[0m\u001b[0m\n\u001b[1;32m     16\u001b[0m     \u001b[0;32mreturn\u001b[0m \u001b[0mdata\u001b[0m\u001b[0;34m\u001b[0m\u001b[0;34m\u001b[0m\u001b[0m\n",
      "\u001b[0;31mFileNotFoundError\u001b[0m: [Errno 2] No such file or directory: 'Derived_Data/StateIndicationNetwork/state2cuisinerecipe_sanj.json'"
     ]
    }
   ],
   "source": [
    "from collections import Counter\n",
    "\n",
    "result_folder = 'Derived_Data/State2Spice/'\n",
    "\n",
    "\n",
    "# Generate State : Spice Ingredients Count Dict\n",
    "\n",
    "# Read cuisine: Recipe Dict\n",
    "state2cuisinerecipe_sanj = json2dict('Derived_Data/StateIndicationNetwork/state2cuisinerecipe_sanj.json')  # generated in State-Indication_Networks_from_RecipeData.ipynb\n",
    "state2cuisinerecipe_tarla = json2dict('Derived_Data/StateIndicationNetwork/state2cuisinerecipe_tarla.json') # generated in State-Indication_Networks_from_RecipeData.ipynb\n",
    "\n",
    "# Read Recipe : Spice Dict\n",
    "cuisinerecipe2spiceingre_sanj = json2dict('Derived_Data/Overlap/sanj_recipename2spice.json') # generated in overlap.ipynb\n",
    "cuisinerecipe2spiceingre_tarla = json2dict('Derived_Data/Overlap/tarla_recipename2spice.json') # generated in overlap.ipynb\n",
    "\n",
    "state2cuisinecount_sanj = json2dict('state2cuisinecount_sanj.json') # do not know where these were generated\n",
    "state2cuisinecount_tarla = json2dict('state2cuisinecount_tarla.json') # do not know where these were generated\n",
    "\n",
    "# Sanjeev\n",
    "state2spiceingre_sanj = {}\n",
    "for state, cuisine_list in state2cuisinerecipe_sanj.items():\n",
    "    spiceingre_list = []  # list of spiceingre per state\n",
    "    for cuisine in cuisine_list: \n",
    "        if cuisine in cuisinerecipe2spiceingre_sanj.keys():  # some cuisine occur in state_cuisine dict but not cuisine_spicehnd dict\n",
    "            spiceingre_list.extend(cuisinerecipe2spiceingre_sanj[cuisine]) \n",
    "    count_dict = Counter(spiceingre_list) # count dict of spiceingre per state\n",
    "    for spice in count_dict.keys():\n",
    "        count_dict[spice] = count_dict[spice]/state2cuisinecount_sanj[state]\n",
    "    state2spiceingre_sanj.update({state : count_dict})\n",
    "\n",
    "# Tarla\n",
    "state2spiceingre_tarla = {}\n",
    "for state, cuisine_list in state2cuisinerecipe_tarla.items():\n",
    "    spiceingre_list = []\n",
    "    for cuisine in cuisine_list:\n",
    "        if cuisine in cuisinerecipe2spiceingre_tarla.keys():  # some cuisine occur in state_cuisine dict but not cuisine_spicehnd dict\n",
    "            spiceingre_list.extend(cuisinerecipe2spiceingre_tarla[cuisine]) \n",
    "    count_dict = Counter(spiceingre_list)\n",
    "    for spice in count_dict.keys():\n",
    "        count_dict[spice] = count_dict[spice]/state2cuisinecount_tarla[state]\n",
    "    state2spiceingre_tarla.update({state : count_dict})\n",
    "\n",
    "# Combined:\n",
    "state2spiceingre_all = state2spiceingre_sanj.copy()\n",
    "for state, counts in state2spiceingre_tarla.items():\n",
    "    if state in state2spiceingre_sanj.keys():\n",
    "        state2spiceingre_all.update({state : state2spiceingre_sanj[state] + state2spiceingre_tarla[state]})\n",
    "    else:\n",
    "        state2spiceingre_all.update({state: state2spiceingre_tarla[state]})\n"
   ]
  },
  {
   "cell_type": "code",
   "execution_count": null,
   "metadata": {},
   "outputs": [],
   "source": [
    "# Sanj\n",
    "state2spiceingre_df_sanj = pd.DataFrame(state2spiceingre_sanj).fillna(0)\n",
    "state2spiceingre_df_sanj.sort_index(ascending=True)\n",
    "state2spiceingre_df_sanj = state2spiceingre_df_sanj.reindex(sorted(state2spiceingre_df_sanj.columns), axis=1)\n",
    "state2spiceingre_df_sanj.to_excel(result_folder+ 'state2spiceingre_countdict_sanj.xlsx')\n",
    "print('Sanj spiceingre ', len(state2spiceingre_df_sanj.index))\n",
    "print('Sanj states ', len(state2spiceingre_df_sanj.columns))\n",
    "\n",
    "# Tarla\n",
    "state2spiceingre_df_tarla = pd.DataFrame(state2spiceingre_tarla).fillna(0)\n",
    "state2spiceingre_df_tarla.sort_index(ascending=True)\n",
    "state2spiceingre_df_tarla = state2spiceingre_df_tarla.reindex(sorted(state2spiceingre_df_tarla.columns), axis=1)\n",
    "state2spiceingre_df_tarla.to_excel(result_folder+ 'state2spiceingre_countdict_tarla.xlsx')\n",
    "print('Tarla spiceingre ', len(state2spiceingre_df_tarla.index))\n",
    "print('Tarla states ', len(state2spiceingre_df_tarla.columns))\n"
   ]
  },
  {
   "cell_type": "code",
   "execution_count": null,
   "metadata": {},
   "outputs": [],
   "source": [
    "# Plot heatmap for state-spicehnd mapping for both Tarla and Sanjeev\n",
    "\n",
    "import numpy as np\n",
    "import matplotlib\n",
    "import matplotlib.pyplot as plt\n",
    "\n",
    "from mpl_toolkits.axes_grid1 import make_axes_locatable\n",
    "import numpy as np\n",
    "\n",
    "def plot_heatmap(val_arr,idx_list, col_list, cmap, title, savefig_name):\n",
    "    plt.figure(figsize=(16,10))\n",
    "    ax = plt.gca()\n",
    "    im = ax.imshow(val_arr, cmap = cmap)\n",
    "\n",
    "    ax.set_xticks(np.arange(len(idx_list)))\n",
    "    ax.set_yticks(np.arange(len(col_list)))\n",
    "    print(len(idx_list))\n",
    "    print(len(col_list))\n",
    "    # label with the respective list entries\n",
    "    ax.set_xticklabels(idx_list)\n",
    "    ax.set_yticklabels(col_list)\n",
    "\n",
    "    # Rotate the tick labels and set alignment.\n",
    "    plt.setp(ax.get_xticklabels(), rotation=90, ha=\"right\",\n",
    "             rotation_mode=\"anchor\")\n",
    "    ax.set_title(title)\n",
    "\n",
    "    divider = make_axes_locatable(ax)\n",
    "    cax = divider.append_axes(\"right\", size=\"2%\", pad=0.08)\n",
    "\n",
    "    plt.colorbar(im, cax=cax)\n",
    "    plt.show()\n",
    "    plt.savefig(result_folder+ savefig_name)\n",
    "\n",
    "plot_heatmap(state2spiceingre_df_sanj.values.T, list(state2spiceingre_df_sanj.index) , list(state2spiceingre_df_sanj.columns), 'jet', 'State - Spice Ingredient Heat Map (based on Sanjeev dataset)', 'state2spiceingre_heatmap_sanj.png')\n",
    "plot_heatmap(state2spiceingre_df_tarla.values.T, state2spiceingre_df_tarla.index , state2spiceingre_df_tarla.columns, 'jet', 'State - Spice Ingredient Heat Map (based on Tarladalal dataset)', 'state2spiceingre_heatmap_tarla.png')\n"
   ]
  },
  {
   "cell_type": "code",
   "execution_count": null,
   "metadata": {},
   "outputs": [],
   "source": []
  }
 ],
 "metadata": {
  "kernelspec": {
   "display_name": "Python 3",
   "language": "python",
   "name": "python3"
  },
  "language_info": {
   "codemirror_mode": {
    "name": "ipython",
    "version": 3
   },
   "file_extension": ".py",
   "mimetype": "text/x-python",
   "name": "python",
   "nbconvert_exporter": "python",
   "pygments_lexer": "ipython3",
   "version": "3.7.1"
  }
 },
 "nbformat": 4,
 "nbformat_minor": 2
}
